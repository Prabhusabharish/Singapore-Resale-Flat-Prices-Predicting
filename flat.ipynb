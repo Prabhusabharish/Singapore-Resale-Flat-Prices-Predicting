{
 "cells": [
  {
   "cell_type": "code",
   "execution_count": 1,
   "metadata": {},
   "outputs": [],
   "source": [
    "# py lib\n",
    "\n",
    "import pandas as pd\n",
    "import numpy as np\n",
    "import warnings\n",
    "warnings.filterwarnings(\"ignore\")\n",
    "import plotly as px\n",
    "import seaborn as sns\n",
    "import matplotlib.pyplot as plt\n",
    "from sklearn.preprocessing import LabelEncoder,OrdinalEncoder\n"
   ]
  },
  {
   "cell_type": "code",
   "execution_count": 2,
   "metadata": {},
   "outputs": [
    {
     "data": {
      "text/html": [
       "<div>\n",
       "<style scoped>\n",
       "    .dataframe tbody tr th:only-of-type {\n",
       "        vertical-align: middle;\n",
       "    }\n",
       "\n",
       "    .dataframe tbody tr th {\n",
       "        vertical-align: top;\n",
       "    }\n",
       "\n",
       "    .dataframe thead th {\n",
       "        text-align: right;\n",
       "    }\n",
       "</style>\n",
       "<table border=\"1\" class=\"dataframe\">\n",
       "  <thead>\n",
       "    <tr style=\"text-align: right;\">\n",
       "      <th></th>\n",
       "      <th>month</th>\n",
       "      <th>town</th>\n",
       "      <th>flat_type</th>\n",
       "      <th>block</th>\n",
       "      <th>street_name</th>\n",
       "      <th>storey_range</th>\n",
       "      <th>floor_area_sqm</th>\n",
       "      <th>flat_model</th>\n",
       "      <th>lease_commence_date</th>\n",
       "      <th>resale_price</th>\n",
       "    </tr>\n",
       "  </thead>\n",
       "  <tbody>\n",
       "    <tr>\n",
       "      <th>0</th>\n",
       "      <td>2000-01</td>\n",
       "      <td>ANG MO KIO</td>\n",
       "      <td>3 ROOM</td>\n",
       "      <td>170</td>\n",
       "      <td>ANG MO KIO AVE 4</td>\n",
       "      <td>07 TO 09</td>\n",
       "      <td>69.0</td>\n",
       "      <td>Improved</td>\n",
       "      <td>1986</td>\n",
       "      <td>147000.0</td>\n",
       "    </tr>\n",
       "    <tr>\n",
       "      <th>1</th>\n",
       "      <td>2000-01</td>\n",
       "      <td>ANG MO KIO</td>\n",
       "      <td>3 ROOM</td>\n",
       "      <td>174</td>\n",
       "      <td>ANG MO KIO AVE 4</td>\n",
       "      <td>04 TO 06</td>\n",
       "      <td>61.0</td>\n",
       "      <td>Improved</td>\n",
       "      <td>1986</td>\n",
       "      <td>144000.0</td>\n",
       "    </tr>\n",
       "  </tbody>\n",
       "</table>\n",
       "</div>"
      ],
      "text/plain": [
       "     month        town flat_type block       street_name storey_range  \\\n",
       "0  2000-01  ANG MO KIO    3 ROOM   170  ANG MO KIO AVE 4     07 TO 09   \n",
       "1  2000-01  ANG MO KIO    3 ROOM   174  ANG MO KIO AVE 4     04 TO 06   \n",
       "\n",
       "   floor_area_sqm flat_model  lease_commence_date  resale_price  \n",
       "0            69.0   Improved                 1986      147000.0  \n",
       "1            61.0   Improved                 1986      144000.0  "
      ]
     },
     "execution_count": 2,
     "metadata": {},
     "output_type": "execute_result"
    }
   ],
   "source": [
    "df1=pd.read_csv(\"C:/Users/prabh/Downloads/Datascience/Project/Singapore_resale/downloadfiles/ResaleFlatPricesBasedonApprovalDate2000Feb2012.csv\")\n",
    "df1.head(2)"
   ]
  },
  {
   "cell_type": "code",
   "execution_count": 3,
   "metadata": {},
   "outputs": [
    {
     "data": {
      "text/html": [
       "<div>\n",
       "<style scoped>\n",
       "    .dataframe tbody tr th:only-of-type {\n",
       "        vertical-align: middle;\n",
       "    }\n",
       "\n",
       "    .dataframe tbody tr th {\n",
       "        vertical-align: top;\n",
       "    }\n",
       "\n",
       "    .dataframe thead th {\n",
       "        text-align: right;\n",
       "    }\n",
       "</style>\n",
       "<table border=\"1\" class=\"dataframe\">\n",
       "  <thead>\n",
       "    <tr style=\"text-align: right;\">\n",
       "      <th></th>\n",
       "      <th>month</th>\n",
       "      <th>town</th>\n",
       "      <th>flat_type</th>\n",
       "      <th>block</th>\n",
       "      <th>street_name</th>\n",
       "      <th>storey_range</th>\n",
       "      <th>floor_area_sqm</th>\n",
       "      <th>flat_model</th>\n",
       "      <th>lease_commence_date</th>\n",
       "      <th>resale_price</th>\n",
       "    </tr>\n",
       "  </thead>\n",
       "  <tbody>\n",
       "    <tr>\n",
       "      <th>0</th>\n",
       "      <td>1990-01</td>\n",
       "      <td>ANG MO KIO</td>\n",
       "      <td>1 ROOM</td>\n",
       "      <td>309</td>\n",
       "      <td>ANG MO KIO AVE 1</td>\n",
       "      <td>10 TO 12</td>\n",
       "      <td>31.0</td>\n",
       "      <td>IMPROVED</td>\n",
       "      <td>1977</td>\n",
       "      <td>9000</td>\n",
       "    </tr>\n",
       "    <tr>\n",
       "      <th>1</th>\n",
       "      <td>1990-01</td>\n",
       "      <td>ANG MO KIO</td>\n",
       "      <td>1 ROOM</td>\n",
       "      <td>309</td>\n",
       "      <td>ANG MO KIO AVE 1</td>\n",
       "      <td>04 TO 06</td>\n",
       "      <td>31.0</td>\n",
       "      <td>IMPROVED</td>\n",
       "      <td>1977</td>\n",
       "      <td>6000</td>\n",
       "    </tr>\n",
       "  </tbody>\n",
       "</table>\n",
       "</div>"
      ],
      "text/plain": [
       "     month        town flat_type block       street_name storey_range  \\\n",
       "0  1990-01  ANG MO KIO    1 ROOM   309  ANG MO KIO AVE 1     10 TO 12   \n",
       "1  1990-01  ANG MO KIO    1 ROOM   309  ANG MO KIO AVE 1     04 TO 06   \n",
       "\n",
       "   floor_area_sqm flat_model  lease_commence_date  resale_price  \n",
       "0            31.0   IMPROVED                 1977          9000  \n",
       "1            31.0   IMPROVED                 1977          6000  "
      ]
     },
     "execution_count": 3,
     "metadata": {},
     "output_type": "execute_result"
    }
   ],
   "source": [
    "df2=pd.read_csv(\"C:/Users/prabh/Downloads/Datascience/Project/Singapore_resale/downloadfiles/ResaleFlatPricesBasedonApprovalDate19901999.csv\")\n",
    "df2.head(2)"
   ]
  },
  {
   "cell_type": "code",
   "execution_count": 4,
   "metadata": {},
   "outputs": [
    {
     "data": {
      "text/html": [
       "<div>\n",
       "<style scoped>\n",
       "    .dataframe tbody tr th:only-of-type {\n",
       "        vertical-align: middle;\n",
       "    }\n",
       "\n",
       "    .dataframe tbody tr th {\n",
       "        vertical-align: top;\n",
       "    }\n",
       "\n",
       "    .dataframe thead th {\n",
       "        text-align: right;\n",
       "    }\n",
       "</style>\n",
       "<table border=\"1\" class=\"dataframe\">\n",
       "  <thead>\n",
       "    <tr style=\"text-align: right;\">\n",
       "      <th></th>\n",
       "      <th>month</th>\n",
       "      <th>town</th>\n",
       "      <th>flat_type</th>\n",
       "      <th>block</th>\n",
       "      <th>street_name</th>\n",
       "      <th>storey_range</th>\n",
       "      <th>floor_area_sqm</th>\n",
       "      <th>flat_model</th>\n",
       "      <th>lease_commence_date</th>\n",
       "      <th>remaining_lease</th>\n",
       "      <th>resale_price</th>\n",
       "    </tr>\n",
       "  </thead>\n",
       "  <tbody>\n",
       "    <tr>\n",
       "      <th>0</th>\n",
       "      <td>2015-01</td>\n",
       "      <td>ANG MO KIO</td>\n",
       "      <td>3 ROOM</td>\n",
       "      <td>174</td>\n",
       "      <td>ANG MO KIO AVE 4</td>\n",
       "      <td>07 TO 09</td>\n",
       "      <td>60.0</td>\n",
       "      <td>Improved</td>\n",
       "      <td>1986</td>\n",
       "      <td>70</td>\n",
       "      <td>255000.0</td>\n",
       "    </tr>\n",
       "    <tr>\n",
       "      <th>1</th>\n",
       "      <td>2015-01</td>\n",
       "      <td>ANG MO KIO</td>\n",
       "      <td>3 ROOM</td>\n",
       "      <td>541</td>\n",
       "      <td>ANG MO KIO AVE 10</td>\n",
       "      <td>01 TO 03</td>\n",
       "      <td>68.0</td>\n",
       "      <td>New Generation</td>\n",
       "      <td>1981</td>\n",
       "      <td>65</td>\n",
       "      <td>275000.0</td>\n",
       "    </tr>\n",
       "  </tbody>\n",
       "</table>\n",
       "</div>"
      ],
      "text/plain": [
       "     month        town flat_type block        street_name storey_range  \\\n",
       "0  2015-01  ANG MO KIO    3 ROOM   174   ANG MO KIO AVE 4     07 TO 09   \n",
       "1  2015-01  ANG MO KIO    3 ROOM   541  ANG MO KIO AVE 10     01 TO 03   \n",
       "\n",
       "   floor_area_sqm      flat_model  lease_commence_date  remaining_lease  \\\n",
       "0            60.0        Improved                 1986               70   \n",
       "1            68.0  New Generation                 1981               65   \n",
       "\n",
       "   resale_price  \n",
       "0      255000.0  \n",
       "1      275000.0  "
      ]
     },
     "execution_count": 4,
     "metadata": {},
     "output_type": "execute_result"
    }
   ],
   "source": [
    "df3=pd.read_csv(\"C:/Users/prabh/Downloads/Datascience/Project/Singapore_resale/downloadfiles/ResaleFlatPricesBasedonRegistrationDateFromJan2015toDec2016.csv\")\n",
    "df3.head(2)"
   ]
  },
  {
   "cell_type": "code",
   "execution_count": 5,
   "metadata": {},
   "outputs": [
    {
     "data": {
      "text/html": [
       "<div>\n",
       "<style scoped>\n",
       "    .dataframe tbody tr th:only-of-type {\n",
       "        vertical-align: middle;\n",
       "    }\n",
       "\n",
       "    .dataframe tbody tr th {\n",
       "        vertical-align: top;\n",
       "    }\n",
       "\n",
       "    .dataframe thead th {\n",
       "        text-align: right;\n",
       "    }\n",
       "</style>\n",
       "<table border=\"1\" class=\"dataframe\">\n",
       "  <thead>\n",
       "    <tr style=\"text-align: right;\">\n",
       "      <th></th>\n",
       "      <th>month</th>\n",
       "      <th>town</th>\n",
       "      <th>flat_type</th>\n",
       "      <th>block</th>\n",
       "      <th>street_name</th>\n",
       "      <th>storey_range</th>\n",
       "      <th>floor_area_sqm</th>\n",
       "      <th>flat_model</th>\n",
       "      <th>lease_commence_date</th>\n",
       "      <th>remaining_lease</th>\n",
       "      <th>resale_price</th>\n",
       "    </tr>\n",
       "  </thead>\n",
       "  <tbody>\n",
       "    <tr>\n",
       "      <th>0</th>\n",
       "      <td>2017-01</td>\n",
       "      <td>ANG MO KIO</td>\n",
       "      <td>2 ROOM</td>\n",
       "      <td>406</td>\n",
       "      <td>ANG MO KIO AVE 10</td>\n",
       "      <td>10 TO 12</td>\n",
       "      <td>44.0</td>\n",
       "      <td>Improved</td>\n",
       "      <td>1979</td>\n",
       "      <td>61 years 04 months</td>\n",
       "      <td>232000.0</td>\n",
       "    </tr>\n",
       "    <tr>\n",
       "      <th>1</th>\n",
       "      <td>2017-01</td>\n",
       "      <td>ANG MO KIO</td>\n",
       "      <td>3 ROOM</td>\n",
       "      <td>108</td>\n",
       "      <td>ANG MO KIO AVE 4</td>\n",
       "      <td>01 TO 03</td>\n",
       "      <td>67.0</td>\n",
       "      <td>New Generation</td>\n",
       "      <td>1978</td>\n",
       "      <td>60 years 07 months</td>\n",
       "      <td>250000.0</td>\n",
       "    </tr>\n",
       "  </tbody>\n",
       "</table>\n",
       "</div>"
      ],
      "text/plain": [
       "     month        town flat_type block        street_name storey_range  \\\n",
       "0  2017-01  ANG MO KIO    2 ROOM   406  ANG MO KIO AVE 10     10 TO 12   \n",
       "1  2017-01  ANG MO KIO    3 ROOM   108   ANG MO KIO AVE 4     01 TO 03   \n",
       "\n",
       "   floor_area_sqm      flat_model  lease_commence_date     remaining_lease  \\\n",
       "0            44.0        Improved                 1979  61 years 04 months   \n",
       "1            67.0  New Generation                 1978  60 years 07 months   \n",
       "\n",
       "   resale_price  \n",
       "0      232000.0  \n",
       "1      250000.0  "
      ]
     },
     "execution_count": 5,
     "metadata": {},
     "output_type": "execute_result"
    }
   ],
   "source": [
    "df4=pd.read_csv(\"C:/Users/prabh/Downloads/Datascience/Project/Singapore_resale/downloadfiles/ResaleflatpricesbasedonregistrationdatefromJan2017onwards.csv\")\n",
    "df4.head(2)"
   ]
  },
  {
   "cell_type": "code",
   "execution_count": 6,
   "metadata": {},
   "outputs": [
    {
     "data": {
      "text/html": [
       "<div>\n",
       "<style scoped>\n",
       "    .dataframe tbody tr th:only-of-type {\n",
       "        vertical-align: middle;\n",
       "    }\n",
       "\n",
       "    .dataframe tbody tr th {\n",
       "        vertical-align: top;\n",
       "    }\n",
       "\n",
       "    .dataframe thead th {\n",
       "        text-align: right;\n",
       "    }\n",
       "</style>\n",
       "<table border=\"1\" class=\"dataframe\">\n",
       "  <thead>\n",
       "    <tr style=\"text-align: right;\">\n",
       "      <th></th>\n",
       "      <th>month</th>\n",
       "      <th>town</th>\n",
       "      <th>flat_type</th>\n",
       "      <th>block</th>\n",
       "      <th>street_name</th>\n",
       "      <th>storey_range</th>\n",
       "      <th>floor_area_sqm</th>\n",
       "      <th>flat_model</th>\n",
       "      <th>lease_commence_date</th>\n",
       "      <th>resale_price</th>\n",
       "    </tr>\n",
       "  </thead>\n",
       "  <tbody>\n",
       "    <tr>\n",
       "      <th>0</th>\n",
       "      <td>2012-03</td>\n",
       "      <td>ANG MO KIO</td>\n",
       "      <td>2 ROOM</td>\n",
       "      <td>172</td>\n",
       "      <td>ANG MO KIO AVE 4</td>\n",
       "      <td>06 TO 10</td>\n",
       "      <td>45.0</td>\n",
       "      <td>Improved</td>\n",
       "      <td>1986</td>\n",
       "      <td>250000.0</td>\n",
       "    </tr>\n",
       "    <tr>\n",
       "      <th>1</th>\n",
       "      <td>2012-03</td>\n",
       "      <td>ANG MO KIO</td>\n",
       "      <td>2 ROOM</td>\n",
       "      <td>510</td>\n",
       "      <td>ANG MO KIO AVE 8</td>\n",
       "      <td>01 TO 05</td>\n",
       "      <td>44.0</td>\n",
       "      <td>Improved</td>\n",
       "      <td>1980</td>\n",
       "      <td>265000.0</td>\n",
       "    </tr>\n",
       "  </tbody>\n",
       "</table>\n",
       "</div>"
      ],
      "text/plain": [
       "     month        town flat_type block       street_name storey_range  \\\n",
       "0  2012-03  ANG MO KIO    2 ROOM   172  ANG MO KIO AVE 4     06 TO 10   \n",
       "1  2012-03  ANG MO KIO    2 ROOM   510  ANG MO KIO AVE 8     01 TO 05   \n",
       "\n",
       "   floor_area_sqm flat_model  lease_commence_date  resale_price  \n",
       "0            45.0   Improved                 1986      250000.0  \n",
       "1            44.0   Improved                 1980      265000.0  "
      ]
     },
     "execution_count": 6,
     "metadata": {},
     "output_type": "execute_result"
    }
   ],
   "source": [
    "df5=pd.read_csv(\"C:/Users/prabh/Downloads/Datascience/Project/Singapore_resale/downloadfiles/ResaleFlatPricesBasedonRegistrationDateFromMar2012toDec2014.csv\")\n",
    "df5.head(2)"
   ]
  },
  {
   "cell_type": "code",
   "execution_count": 7,
   "metadata": {},
   "outputs": [
    {
     "name": "stdout",
     "output_type": "stream",
     "text": [
      "(369651, 10)\n",
      "(287196, 10)\n",
      "(37153, 11)\n",
      "(171883, 11)\n",
      "(52203, 10)\n"
     ]
    }
   ],
   "source": [
    "print(df1.shape)\n",
    "print(df2.shape)\n",
    "print(df3.shape)\n",
    "print(df4.shape)\n",
    "print(df5.shape)\n"
   ]
  },
  {
   "cell_type": "code",
   "execution_count": 8,
   "metadata": {},
   "outputs": [
    {
     "name": "stdout",
     "output_type": "stream",
     "text": [
      "Index(['month', 'town', 'flat_type', 'block', 'street_name', 'storey_range',\n",
      "       'floor_area_sqm', 'flat_model', 'lease_commence_date', 'resale_price'],\n",
      "      dtype='object')\n",
      "Index(['month', 'town', 'flat_type', 'block', 'street_name', 'storey_range',\n",
      "       'floor_area_sqm', 'flat_model', 'lease_commence_date', 'resale_price'],\n",
      "      dtype='object')\n",
      "Index(['month', 'town', 'flat_type', 'block', 'street_name', 'storey_range',\n",
      "       'floor_area_sqm', 'flat_model', 'lease_commence_date',\n",
      "       'remaining_lease', 'resale_price'],\n",
      "      dtype='object')\n",
      "Index(['month', 'town', 'flat_type', 'block', 'street_name', 'storey_range',\n",
      "       'floor_area_sqm', 'flat_model', 'lease_commence_date',\n",
      "       'remaining_lease', 'resale_price'],\n",
      "      dtype='object')\n",
      "Index(['month', 'town', 'flat_type', 'block', 'street_name', 'storey_range',\n",
      "       'floor_area_sqm', 'flat_model', 'lease_commence_date', 'resale_price'],\n",
      "      dtype='object')\n"
     ]
    }
   ],
   "source": [
    "print(df1.columns)\n",
    "print(df2.columns)\n",
    "print(df3.columns)\n",
    "print(df4.columns)\n",
    "print(df5.columns)"
   ]
  },
  {
   "cell_type": "code",
   "execution_count": 9,
   "metadata": {},
   "outputs": [
    {
     "data": {
      "text/html": [
       "<div>\n",
       "<style scoped>\n",
       "    .dataframe tbody tr th:only-of-type {\n",
       "        vertical-align: middle;\n",
       "    }\n",
       "\n",
       "    .dataframe tbody tr th {\n",
       "        vertical-align: top;\n",
       "    }\n",
       "\n",
       "    .dataframe thead th {\n",
       "        text-align: right;\n",
       "    }\n",
       "</style>\n",
       "<table border=\"1\" class=\"dataframe\">\n",
       "  <thead>\n",
       "    <tr style=\"text-align: right;\">\n",
       "      <th></th>\n",
       "      <th>month</th>\n",
       "      <th>town</th>\n",
       "      <th>flat_type</th>\n",
       "      <th>block</th>\n",
       "      <th>street_name</th>\n",
       "      <th>storey_range</th>\n",
       "      <th>floor_area_sqm</th>\n",
       "      <th>flat_model</th>\n",
       "      <th>lease_commence_date</th>\n",
       "      <th>resale_price</th>\n",
       "      <th>remaining_lease</th>\n",
       "    </tr>\n",
       "  </thead>\n",
       "  <tbody>\n",
       "    <tr>\n",
       "      <th>0</th>\n",
       "      <td>2000-01</td>\n",
       "      <td>ANG MO KIO</td>\n",
       "      <td>3 ROOM</td>\n",
       "      <td>170</td>\n",
       "      <td>ANG MO KIO AVE 4</td>\n",
       "      <td>07 TO 09</td>\n",
       "      <td>69.0</td>\n",
       "      <td>Improved</td>\n",
       "      <td>1986</td>\n",
       "      <td>147000.0</td>\n",
       "      <td>NaN</td>\n",
       "    </tr>\n",
       "    <tr>\n",
       "      <th>1</th>\n",
       "      <td>2000-01</td>\n",
       "      <td>ANG MO KIO</td>\n",
       "      <td>3 ROOM</td>\n",
       "      <td>174</td>\n",
       "      <td>ANG MO KIO AVE 4</td>\n",
       "      <td>04 TO 06</td>\n",
       "      <td>61.0</td>\n",
       "      <td>Improved</td>\n",
       "      <td>1986</td>\n",
       "      <td>144000.0</td>\n",
       "      <td>NaN</td>\n",
       "    </tr>\n",
       "  </tbody>\n",
       "</table>\n",
       "</div>"
      ],
      "text/plain": [
       "     month        town flat_type block       street_name storey_range  \\\n",
       "0  2000-01  ANG MO KIO    3 ROOM   170  ANG MO KIO AVE 4     07 TO 09   \n",
       "1  2000-01  ANG MO KIO    3 ROOM   174  ANG MO KIO AVE 4     04 TO 06   \n",
       "\n",
       "   floor_area_sqm flat_model  lease_commence_date  resale_price  \\\n",
       "0            69.0   Improved                 1986      147000.0   \n",
       "1            61.0   Improved                 1986      144000.0   \n",
       "\n",
       "  remaining_lease  \n",
       "0             NaN  \n",
       "1             NaN  "
      ]
     },
     "execution_count": 9,
     "metadata": {},
     "output_type": "execute_result"
    }
   ],
   "source": [
    "df = pd.concat([df1, df2, df3, df4, df5], axis=0)\n",
    "df.head(2)"
   ]
  },
  {
   "cell_type": "code",
   "execution_count": 10,
   "metadata": {},
   "outputs": [],
   "source": [
    "df.to_csv(\"merged_df.csv\", index = False)"
   ]
  },
  {
   "cell_type": "code",
   "execution_count": 11,
   "metadata": {},
   "outputs": [
    {
     "data": {
      "text/plain": [
       "(918086, 11)"
      ]
     },
     "execution_count": 11,
     "metadata": {},
     "output_type": "execute_result"
    }
   ],
   "source": [
    "df.shape"
   ]
  },
  {
   "cell_type": "code",
   "execution_count": 12,
   "metadata": {},
   "outputs": [
    {
     "data": {
      "text/plain": [
       "Index(['month', 'town', 'flat_type', 'block', 'street_name', 'storey_range',\n",
       "       'floor_area_sqm', 'flat_model', 'lease_commence_date', 'resale_price',\n",
       "       'remaining_lease'],\n",
       "      dtype='object')"
      ]
     },
     "execution_count": 12,
     "metadata": {},
     "output_type": "execute_result"
    }
   ],
   "source": [
    "df.columns"
   ]
  },
  {
   "cell_type": "code",
   "execution_count": 13,
   "metadata": {},
   "outputs": [
    {
     "data": {
      "text/plain": [
       "array(['Improved', 'New Generation', 'Model A', 'Standard', 'Apartment',\n",
       "       'Simplified', 'Model A-Maisonette', 'Maisonette',\n",
       "       'Multi Generation', 'Adjoined flat', 'Premium Apartment',\n",
       "       'Terrace', 'Improved-Maisonette', 'Premium Maisonette', '2-room',\n",
       "       'Model A2', 'IMPROVED', 'NEW GENERATION', 'MODEL A', 'STANDARD',\n",
       "       'SIMPLIFIED', 'MODEL A-MAISONETTE', 'APARTMENT', 'MAISONETTE',\n",
       "       'TERRACE', '2-ROOM', 'IMPROVED-MAISONETTE', 'MULTI GENERATION',\n",
       "       'PREMIUM APARTMENT', 'Type S1', 'Type S2', 'DBSS',\n",
       "       'Premium Apartment Loft', '3Gen'], dtype=object)"
      ]
     },
     "execution_count": 13,
     "metadata": {},
     "output_type": "execute_result"
    }
   ],
   "source": [
    "df['flat_model'].unique()"
   ]
  },
  {
   "cell_type": "code",
   "execution_count": 14,
   "metadata": {},
   "outputs": [
    {
     "data": {
      "text/plain": [
       "2704"
      ]
     },
     "execution_count": 14,
     "metadata": {},
     "output_type": "execute_result"
    }
   ],
   "source": [
    "df['block'].nunique()"
   ]
  },
  {
   "cell_type": "code",
   "execution_count": 15,
   "metadata": {},
   "outputs": [],
   "source": [
    "# Extract year / month cols\n",
    "import datetime\n",
    "df[\"date_object\"] = pd.to_datetime(df[\"month\"], format='%Y-%m')\n",
    "df[\"year\"] = df[\"date_object\"].dt.year\n",
    "df[\"month\"] = df[\"date_object\"].dt.month"
   ]
  },
  {
   "cell_type": "code",
   "execution_count": 16,
   "metadata": {},
   "outputs": [
    {
     "data": {
      "text/html": [
       "<div>\n",
       "<style scoped>\n",
       "    .dataframe tbody tr th:only-of-type {\n",
       "        vertical-align: middle;\n",
       "    }\n",
       "\n",
       "    .dataframe tbody tr th {\n",
       "        vertical-align: top;\n",
       "    }\n",
       "\n",
       "    .dataframe thead th {\n",
       "        text-align: right;\n",
       "    }\n",
       "</style>\n",
       "<table border=\"1\" class=\"dataframe\">\n",
       "  <thead>\n",
       "    <tr style=\"text-align: right;\">\n",
       "      <th></th>\n",
       "      <th>month</th>\n",
       "      <th>town</th>\n",
       "      <th>flat_type</th>\n",
       "      <th>block</th>\n",
       "      <th>street_name</th>\n",
       "      <th>storey_range</th>\n",
       "      <th>floor_area_sqm</th>\n",
       "      <th>flat_model</th>\n",
       "      <th>lease_commence_date</th>\n",
       "      <th>resale_price</th>\n",
       "      <th>remaining_lease</th>\n",
       "      <th>date_object</th>\n",
       "      <th>year</th>\n",
       "    </tr>\n",
       "  </thead>\n",
       "  <tbody>\n",
       "    <tr>\n",
       "      <th>0</th>\n",
       "      <td>1</td>\n",
       "      <td>ANG MO KIO</td>\n",
       "      <td>3 ROOM</td>\n",
       "      <td>170</td>\n",
       "      <td>ANG MO KIO AVE 4</td>\n",
       "      <td>07 TO 09</td>\n",
       "      <td>69.0</td>\n",
       "      <td>Improved</td>\n",
       "      <td>1986</td>\n",
       "      <td>147000.0</td>\n",
       "      <td>NaN</td>\n",
       "      <td>2000-01-01</td>\n",
       "      <td>2000</td>\n",
       "    </tr>\n",
       "    <tr>\n",
       "      <th>1</th>\n",
       "      <td>1</td>\n",
       "      <td>ANG MO KIO</td>\n",
       "      <td>3 ROOM</td>\n",
       "      <td>174</td>\n",
       "      <td>ANG MO KIO AVE 4</td>\n",
       "      <td>04 TO 06</td>\n",
       "      <td>61.0</td>\n",
       "      <td>Improved</td>\n",
       "      <td>1986</td>\n",
       "      <td>144000.0</td>\n",
       "      <td>NaN</td>\n",
       "      <td>2000-01-01</td>\n",
       "      <td>2000</td>\n",
       "    </tr>\n",
       "  </tbody>\n",
       "</table>\n",
       "</div>"
      ],
      "text/plain": [
       "   month        town flat_type block       street_name storey_range  \\\n",
       "0      1  ANG MO KIO    3 ROOM   170  ANG MO KIO AVE 4     07 TO 09   \n",
       "1      1  ANG MO KIO    3 ROOM   174  ANG MO KIO AVE 4     04 TO 06   \n",
       "\n",
       "   floor_area_sqm flat_model  lease_commence_date  resale_price  \\\n",
       "0            69.0   Improved                 1986      147000.0   \n",
       "1            61.0   Improved                 1986      144000.0   \n",
       "\n",
       "  remaining_lease date_object  year  \n",
       "0             NaN  2000-01-01  2000  \n",
       "1             NaN  2000-01-01  2000  "
      ]
     },
     "execution_count": 16,
     "metadata": {},
     "output_type": "execute_result"
    }
   ],
   "source": [
    "df.head(2)"
   ]
  },
  {
   "cell_type": "code",
   "execution_count": 17,
   "metadata": {},
   "outputs": [],
   "source": [
    "# drop prev month col\n",
    "df.drop(columns = [\"date_object\"],inplace = True)"
   ]
  },
  {
   "cell_type": "code",
   "execution_count": 18,
   "metadata": {},
   "outputs": [
    {
     "data": {
      "text/html": [
       "<div>\n",
       "<style scoped>\n",
       "    .dataframe tbody tr th:only-of-type {\n",
       "        vertical-align: middle;\n",
       "    }\n",
       "\n",
       "    .dataframe tbody tr th {\n",
       "        vertical-align: top;\n",
       "    }\n",
       "\n",
       "    .dataframe thead th {\n",
       "        text-align: right;\n",
       "    }\n",
       "</style>\n",
       "<table border=\"1\" class=\"dataframe\">\n",
       "  <thead>\n",
       "    <tr style=\"text-align: right;\">\n",
       "      <th></th>\n",
       "      <th>month</th>\n",
       "      <th>town</th>\n",
       "      <th>flat_type</th>\n",
       "      <th>block</th>\n",
       "      <th>street_name</th>\n",
       "      <th>storey_range</th>\n",
       "      <th>floor_area_sqm</th>\n",
       "      <th>flat_model</th>\n",
       "      <th>lease_commence_date</th>\n",
       "      <th>resale_price</th>\n",
       "      <th>remaining_lease</th>\n",
       "      <th>year</th>\n",
       "    </tr>\n",
       "  </thead>\n",
       "  <tbody>\n",
       "    <tr>\n",
       "      <th>52201</th>\n",
       "      <td>12</td>\n",
       "      <td>YISHUN</td>\n",
       "      <td>EXECUTIVE</td>\n",
       "      <td>277</td>\n",
       "      <td>YISHUN ST 22</td>\n",
       "      <td>07 TO 09</td>\n",
       "      <td>152.0</td>\n",
       "      <td>Maisonette</td>\n",
       "      <td>1985</td>\n",
       "      <td>592000.0</td>\n",
       "      <td>NaN</td>\n",
       "      <td>2014</td>\n",
       "    </tr>\n",
       "    <tr>\n",
       "      <th>52202</th>\n",
       "      <td>12</td>\n",
       "      <td>YISHUN</td>\n",
       "      <td>EXECUTIVE</td>\n",
       "      <td>277</td>\n",
       "      <td>YISHUN ST 22</td>\n",
       "      <td>04 TO 06</td>\n",
       "      <td>146.0</td>\n",
       "      <td>Maisonette</td>\n",
       "      <td>1985</td>\n",
       "      <td>545000.0</td>\n",
       "      <td>NaN</td>\n",
       "      <td>2014</td>\n",
       "    </tr>\n",
       "  </tbody>\n",
       "</table>\n",
       "</div>"
      ],
      "text/plain": [
       "       month    town  flat_type block   street_name storey_range  \\\n",
       "52201     12  YISHUN  EXECUTIVE   277  YISHUN ST 22     07 TO 09   \n",
       "52202     12  YISHUN  EXECUTIVE   277  YISHUN ST 22     04 TO 06   \n",
       "\n",
       "       floor_area_sqm  flat_model  lease_commence_date  resale_price  \\\n",
       "52201           152.0  Maisonette                 1985      592000.0   \n",
       "52202           146.0  Maisonette                 1985      545000.0   \n",
       "\n",
       "      remaining_lease  year  \n",
       "52201             NaN  2014  \n",
       "52202             NaN  2014  "
      ]
     },
     "execution_count": 18,
     "metadata": {},
     "output_type": "execute_result"
    }
   ],
   "source": [
    "df.tail(2)"
   ]
  },
  {
   "cell_type": "code",
   "execution_count": 19,
   "metadata": {},
   "outputs": [
    {
     "data": {
      "text/plain": [
       "(918086, 12)"
      ]
     },
     "execution_count": 19,
     "metadata": {},
     "output_type": "execute_result"
    }
   ],
   "source": [
    "df.shape"
   ]
  },
  {
   "cell_type": "code",
   "execution_count": 20,
   "metadata": {},
   "outputs": [],
   "source": [
    "# rename for col names\n",
    "df = df.rename(columns={'flat_type': \"no_of_rooms\", 'storey_range': \"no_of_floors\", \"flat_model\": \"flat_type\"})"
   ]
  },
  {
   "cell_type": "code",
   "execution_count": 21,
   "metadata": {},
   "outputs": [
    {
     "data": {
      "text/html": [
       "<div>\n",
       "<style scoped>\n",
       "    .dataframe tbody tr th:only-of-type {\n",
       "        vertical-align: middle;\n",
       "    }\n",
       "\n",
       "    .dataframe tbody tr th {\n",
       "        vertical-align: top;\n",
       "    }\n",
       "\n",
       "    .dataframe thead th {\n",
       "        text-align: right;\n",
       "    }\n",
       "</style>\n",
       "<table border=\"1\" class=\"dataframe\">\n",
       "  <thead>\n",
       "    <tr style=\"text-align: right;\">\n",
       "      <th></th>\n",
       "      <th>month</th>\n",
       "      <th>town</th>\n",
       "      <th>no_of_rooms</th>\n",
       "      <th>block</th>\n",
       "      <th>street_name</th>\n",
       "      <th>no_of_floors</th>\n",
       "      <th>floor_area_sqm</th>\n",
       "      <th>flat_type</th>\n",
       "      <th>lease_commence_date</th>\n",
       "      <th>resale_price</th>\n",
       "      <th>remaining_lease</th>\n",
       "      <th>year</th>\n",
       "    </tr>\n",
       "  </thead>\n",
       "  <tbody>\n",
       "    <tr>\n",
       "      <th>52201</th>\n",
       "      <td>12</td>\n",
       "      <td>YISHUN</td>\n",
       "      <td>EXECUTIVE</td>\n",
       "      <td>277</td>\n",
       "      <td>YISHUN ST 22</td>\n",
       "      <td>07 TO 09</td>\n",
       "      <td>152.0</td>\n",
       "      <td>Maisonette</td>\n",
       "      <td>1985</td>\n",
       "      <td>592000.0</td>\n",
       "      <td>NaN</td>\n",
       "      <td>2014</td>\n",
       "    </tr>\n",
       "    <tr>\n",
       "      <th>52202</th>\n",
       "      <td>12</td>\n",
       "      <td>YISHUN</td>\n",
       "      <td>EXECUTIVE</td>\n",
       "      <td>277</td>\n",
       "      <td>YISHUN ST 22</td>\n",
       "      <td>04 TO 06</td>\n",
       "      <td>146.0</td>\n",
       "      <td>Maisonette</td>\n",
       "      <td>1985</td>\n",
       "      <td>545000.0</td>\n",
       "      <td>NaN</td>\n",
       "      <td>2014</td>\n",
       "    </tr>\n",
       "  </tbody>\n",
       "</table>\n",
       "</div>"
      ],
      "text/plain": [
       "       month    town no_of_rooms block   street_name no_of_floors  \\\n",
       "52201     12  YISHUN   EXECUTIVE   277  YISHUN ST 22     07 TO 09   \n",
       "52202     12  YISHUN   EXECUTIVE   277  YISHUN ST 22     04 TO 06   \n",
       "\n",
       "       floor_area_sqm   flat_type  lease_commence_date  resale_price  \\\n",
       "52201           152.0  Maisonette                 1985      592000.0   \n",
       "52202           146.0  Maisonette                 1985      545000.0   \n",
       "\n",
       "      remaining_lease  year  \n",
       "52201             NaN  2014  \n",
       "52202             NaN  2014  "
      ]
     },
     "execution_count": 21,
     "metadata": {},
     "output_type": "execute_result"
    }
   ],
   "source": [
    "df.tail(2)"
   ]
  },
  {
   "cell_type": "markdown",
   "metadata": {},
   "source": [
    "#20"
   ]
  },
  {
   "cell_type": "code",
   "execution_count": 22,
   "metadata": {},
   "outputs": [
    {
     "data": {
      "text/plain": [
       "month                       0\n",
       "town                        0\n",
       "no_of_rooms                 0\n",
       "block                       0\n",
       "street_name                 0\n",
       "no_of_floors                0\n",
       "floor_area_sqm              0\n",
       "flat_type                   0\n",
       "lease_commence_date         0\n",
       "resale_price                0\n",
       "remaining_lease        709050\n",
       "year                        0\n",
       "dtype: int64"
      ]
     },
     "execution_count": 22,
     "metadata": {},
     "output_type": "execute_result"
    }
   ],
   "source": [
    "df.isna().sum()"
   ]
  },
  {
   "cell_type": "code",
   "execution_count": 23,
   "metadata": {},
   "outputs": [],
   "source": [
    "# drop above 70% na values col\n",
    "df.drop(columns = [\"remaining_lease\"],inplace = True)"
   ]
  },
  {
   "cell_type": "code",
   "execution_count": 24,
   "metadata": {},
   "outputs": [
    {
     "data": {
      "text/plain": [
       "month                  0\n",
       "town                   0\n",
       "no_of_rooms            0\n",
       "block                  0\n",
       "street_name            0\n",
       "no_of_floors           0\n",
       "floor_area_sqm         0\n",
       "flat_type              0\n",
       "lease_commence_date    0\n",
       "resale_price           0\n",
       "year                   0\n",
       "dtype: int64"
      ]
     },
     "execution_count": 24,
     "metadata": {},
     "output_type": "execute_result"
    }
   ],
   "source": [
    "df.isna().sum()"
   ]
  },
  {
   "cell_type": "code",
   "execution_count": 25,
   "metadata": {},
   "outputs": [
    {
     "name": "stdout",
     "output_type": "stream",
     "text": [
      "<class 'pandas.core.frame.DataFrame'>\n",
      "Index: 918086 entries, 0 to 52202\n",
      "Data columns (total 11 columns):\n",
      " #   Column               Non-Null Count   Dtype  \n",
      "---  ------               --------------   -----  \n",
      " 0   month                918086 non-null  int32  \n",
      " 1   town                 918086 non-null  object \n",
      " 2   no_of_rooms          918086 non-null  object \n",
      " 3   block                918086 non-null  object \n",
      " 4   street_name          918086 non-null  object \n",
      " 5   no_of_floors         918086 non-null  object \n",
      " 6   floor_area_sqm       918086 non-null  float64\n",
      " 7   flat_type            918086 non-null  object \n",
      " 8   lease_commence_date  918086 non-null  int64  \n",
      " 9   resale_price         918086 non-null  float64\n",
      " 10  year                 918086 non-null  int32  \n",
      "dtypes: float64(2), int32(2), int64(1), object(6)\n",
      "memory usage: 77.0+ MB\n"
     ]
    }
   ],
   "source": [
    "df.info()"
   ]
  },
  {
   "cell_type": "code",
   "execution_count": 26,
   "metadata": {},
   "outputs": [
    {
     "data": {
      "text/plain": [
       "0"
      ]
     },
     "execution_count": 26,
     "metadata": {},
     "output_type": "execute_result"
    }
   ],
   "source": [
    "(df[\"block\"] == 'Object').sum()"
   ]
  },
  {
   "cell_type": "code",
   "execution_count": 27,
   "metadata": {},
   "outputs": [
    {
     "data": {
      "text/html": [
       "<div>\n",
       "<style scoped>\n",
       "    .dataframe tbody tr th:only-of-type {\n",
       "        vertical-align: middle;\n",
       "    }\n",
       "\n",
       "    .dataframe tbody tr th {\n",
       "        vertical-align: top;\n",
       "    }\n",
       "\n",
       "    .dataframe thead th {\n",
       "        text-align: right;\n",
       "    }\n",
       "</style>\n",
       "<table border=\"1\" class=\"dataframe\">\n",
       "  <thead>\n",
       "    <tr style=\"text-align: right;\">\n",
       "      <th></th>\n",
       "      <th>month</th>\n",
       "      <th>town</th>\n",
       "      <th>no_of_rooms</th>\n",
       "      <th>block</th>\n",
       "      <th>street_name</th>\n",
       "      <th>no_of_floors</th>\n",
       "      <th>floor_area_sqm</th>\n",
       "      <th>flat_type</th>\n",
       "      <th>lease_commence_date</th>\n",
       "      <th>resale_price</th>\n",
       "      <th>year</th>\n",
       "    </tr>\n",
       "  </thead>\n",
       "  <tbody>\n",
       "  </tbody>\n",
       "</table>\n",
       "</div>"
      ],
      "text/plain": [
       "Empty DataFrame\n",
       "Columns: [month, town, no_of_rooms, block, street_name, no_of_floors, floor_area_sqm, flat_type, lease_commence_date, resale_price, year]\n",
       "Index: []"
      ]
     },
     "execution_count": 27,
     "metadata": {},
     "output_type": "execute_result"
    }
   ],
   "source": [
    "df[df[\"block\"].astype(str).str.isalpha()]"
   ]
  },
  {
   "cell_type": "code",
   "execution_count": 28,
   "metadata": {},
   "outputs": [
    {
     "data": {
      "text/plain": [
       "2704"
      ]
     },
     "execution_count": 28,
     "metadata": {},
     "output_type": "execute_result"
    }
   ],
   "source": [
    "df[\"block\"].nunique()"
   ]
  },
  {
   "cell_type": "code",
   "execution_count": 29,
   "metadata": {},
   "outputs": [
    {
     "name": "stdout",
     "output_type": "stream",
     "text": [
      "<class 'pandas.core.frame.DataFrame'>\n",
      "Index: 918086 entries, 0 to 52202\n",
      "Data columns (total 11 columns):\n",
      " #   Column               Non-Null Count   Dtype  \n",
      "---  ------               --------------   -----  \n",
      " 0   month                918086 non-null  int32  \n",
      " 1   town                 918086 non-null  object \n",
      " 2   no_of_rooms          918086 non-null  object \n",
      " 3   block                918086 non-null  object \n",
      " 4   street_name          918086 non-null  object \n",
      " 5   no_of_floors         918086 non-null  object \n",
      " 6   floor_area_sqm       918086 non-null  float64\n",
      " 7   flat_type            918086 non-null  object \n",
      " 8   lease_commence_date  918086 non-null  int64  \n",
      " 9   resale_price         918086 non-null  float64\n",
      " 10  year                 918086 non-null  int32  \n",
      "dtypes: float64(2), int32(2), int64(1), object(6)\n",
      "memory usage: 77.0+ MB\n"
     ]
    }
   ],
   "source": [
    "df.info()"
   ]
  },
  {
   "cell_type": "code",
   "execution_count": 30,
   "metadata": {},
   "outputs": [],
   "source": [
    "df['no_of_rooms'] = df['no_of_rooms'].str.strip(\"ROOM\")"
   ]
  },
  {
   "cell_type": "markdown",
   "metadata": {},
   "source": [
    "#30"
   ]
  },
  {
   "cell_type": "code",
   "execution_count": 31,
   "metadata": {},
   "outputs": [
    {
     "data": {
      "text/plain": [
       "array(['3 ', '4 ', '5 ', 'EXECUTIVE', '2 ', 'ULTI-GENERATION', '1 ',\n",
       "       'ULTI GENERATION'], dtype=object)"
      ]
     },
     "execution_count": 31,
     "metadata": {},
     "output_type": "execute_result"
    }
   ],
   "source": [
    "df['no_of_rooms'].unique()"
   ]
  },
  {
   "cell_type": "code",
   "execution_count": 32,
   "metadata": {},
   "outputs": [
    {
     "data": {
      "text/plain": [
       "array(['3 ', '4 ', '5 ', 'EXECUTIVE', '2 ', 'ULTI-GENERATION', '1 ',\n",
       "       'ULTI GENERATION'], dtype=object)"
      ]
     },
     "execution_count": 32,
     "metadata": {},
     "output_type": "execute_result"
    }
   ],
   "source": [
    "df['no_of_rooms'].unique()"
   ]
  },
  {
   "cell_type": "code",
   "execution_count": 33,
   "metadata": {},
   "outputs": [
    {
     "data": {
      "text/plain": [
       "Index(['month', 'town', 'no_of_rooms', 'block', 'street_name', 'no_of_floors',\n",
       "       'floor_area_sqm', 'flat_type', 'lease_commence_date', 'resale_price',\n",
       "       'year'],\n",
       "      dtype='object')"
      ]
     },
     "execution_count": 33,
     "metadata": {},
     "output_type": "execute_result"
    }
   ],
   "source": [
    "df.columns"
   ]
  },
  {
   "cell_type": "code",
   "execution_count": 34,
   "metadata": {},
   "outputs": [
    {
     "data": {
      "text/plain": [
       "array(['Improved', 'New Generation', 'Model A', 'Standard', 'Apartment',\n",
       "       'Simplified', 'Model A-Maisonette', 'Maisonette',\n",
       "       'Multi Generation', 'Adjoined flat', 'Premium Apartment',\n",
       "       'Terrace', 'Improved-Maisonette', 'Premium Maisonette', '2-room',\n",
       "       'Model A2', 'IMPROVED', 'NEW GENERATION', 'MODEL A', 'STANDARD',\n",
       "       'SIMPLIFIED', 'MODEL A-MAISONETTE', 'APARTMENT', 'MAISONETTE',\n",
       "       'TERRACE', '2-ROOM', 'IMPROVED-MAISONETTE', 'MULTI GENERATION',\n",
       "       'PREMIUM APARTMENT', 'Type S1', 'Type S2', 'DBSS',\n",
       "       'Premium Apartment Loft', '3Gen'], dtype=object)"
      ]
     },
     "execution_count": 34,
     "metadata": {},
     "output_type": "execute_result"
    }
   ],
   "source": [
    "df['flat_type'].unique()"
   ]
  },
  {
   "cell_type": "code",
   "execution_count": 35,
   "metadata": {},
   "outputs": [
    {
     "data": {
      "text/plain": [
       "month                  69099\n",
       "town                   69099\n",
       "no_of_rooms            69099\n",
       "block                  69099\n",
       "street_name            69099\n",
       "no_of_floors           69099\n",
       "floor_area_sqm         69099\n",
       "flat_type              69099\n",
       "lease_commence_date    69099\n",
       "resale_price           69099\n",
       "year                   69099\n",
       "dtype: int64"
      ]
     },
     "execution_count": 35,
     "metadata": {},
     "output_type": "execute_result"
    }
   ],
   "source": [
    "df[df['no_of_rooms'] == \"EXECUTIVE\"].count()"
   ]
  },
  {
   "cell_type": "code",
   "execution_count": 36,
   "metadata": {},
   "outputs": [
    {
     "data": {
      "text/plain": [
       "month                  279\n",
       "town                   279\n",
       "no_of_rooms            279\n",
       "block                  279\n",
       "street_name            279\n",
       "no_of_floors           279\n",
       "floor_area_sqm         279\n",
       "flat_type              279\n",
       "lease_commence_date    279\n",
       "resale_price           279\n",
       "year                   279\n",
       "dtype: int64"
      ]
     },
     "execution_count": 36,
     "metadata": {},
     "output_type": "execute_result"
    }
   ],
   "source": [
    "df[df['no_of_rooms'] == \"ULTI GENERATION\"].count()"
   ]
  },
  {
   "cell_type": "code",
   "execution_count": 37,
   "metadata": {},
   "outputs": [
    {
     "data": {
      "text/plain": [
       "month                  260\n",
       "town                   260\n",
       "no_of_rooms            260\n",
       "block                  260\n",
       "street_name            260\n",
       "no_of_floors           260\n",
       "floor_area_sqm         260\n",
       "flat_type              260\n",
       "lease_commence_date    260\n",
       "resale_price           260\n",
       "year                   260\n",
       "dtype: int64"
      ]
     },
     "execution_count": 37,
     "metadata": {},
     "output_type": "execute_result"
    }
   ],
   "source": [
    "df[df['no_of_rooms'] == \"ULTI-GENERATION\"].count()"
   ]
  },
  {
   "cell_type": "code",
   "execution_count": 38,
   "metadata": {},
   "outputs": [
    {
     "data": {
      "text/html": [
       "<div>\n",
       "<style scoped>\n",
       "    .dataframe tbody tr th:only-of-type {\n",
       "        vertical-align: middle;\n",
       "    }\n",
       "\n",
       "    .dataframe tbody tr th {\n",
       "        vertical-align: top;\n",
       "    }\n",
       "\n",
       "    .dataframe thead th {\n",
       "        text-align: right;\n",
       "    }\n",
       "</style>\n",
       "<table border=\"1\" class=\"dataframe\">\n",
       "  <thead>\n",
       "    <tr style=\"text-align: right;\">\n",
       "      <th></th>\n",
       "      <th>month</th>\n",
       "      <th>town</th>\n",
       "      <th>no_of_rooms</th>\n",
       "      <th>block</th>\n",
       "      <th>street_name</th>\n",
       "      <th>no_of_floors</th>\n",
       "      <th>floor_area_sqm</th>\n",
       "      <th>flat_type</th>\n",
       "      <th>lease_commence_date</th>\n",
       "      <th>resale_price</th>\n",
       "      <th>year</th>\n",
       "    </tr>\n",
       "  </thead>\n",
       "  <tbody>\n",
       "    <tr>\n",
       "      <th>0</th>\n",
       "      <td>1</td>\n",
       "      <td>ANG MO KIO</td>\n",
       "      <td>3</td>\n",
       "      <td>170</td>\n",
       "      <td>ANG MO KIO AVE 4</td>\n",
       "      <td>07 TO 09</td>\n",
       "      <td>69.0</td>\n",
       "      <td>Improved</td>\n",
       "      <td>1986</td>\n",
       "      <td>147000.0</td>\n",
       "      <td>2000</td>\n",
       "    </tr>\n",
       "    <tr>\n",
       "      <th>1</th>\n",
       "      <td>1</td>\n",
       "      <td>ANG MO KIO</td>\n",
       "      <td>3</td>\n",
       "      <td>174</td>\n",
       "      <td>ANG MO KIO AVE 4</td>\n",
       "      <td>04 TO 06</td>\n",
       "      <td>61.0</td>\n",
       "      <td>Improved</td>\n",
       "      <td>1986</td>\n",
       "      <td>144000.0</td>\n",
       "      <td>2000</td>\n",
       "    </tr>\n",
       "    <tr>\n",
       "      <th>2</th>\n",
       "      <td>1</td>\n",
       "      <td>ANG MO KIO</td>\n",
       "      <td>3</td>\n",
       "      <td>216</td>\n",
       "      <td>ANG MO KIO AVE 1</td>\n",
       "      <td>07 TO 09</td>\n",
       "      <td>73.0</td>\n",
       "      <td>New Generation</td>\n",
       "      <td>1976</td>\n",
       "      <td>159000.0</td>\n",
       "      <td>2000</td>\n",
       "    </tr>\n",
       "    <tr>\n",
       "      <th>3</th>\n",
       "      <td>1</td>\n",
       "      <td>ANG MO KIO</td>\n",
       "      <td>3</td>\n",
       "      <td>215</td>\n",
       "      <td>ANG MO KIO AVE 1</td>\n",
       "      <td>07 TO 09</td>\n",
       "      <td>73.0</td>\n",
       "      <td>New Generation</td>\n",
       "      <td>1976</td>\n",
       "      <td>167000.0</td>\n",
       "      <td>2000</td>\n",
       "    </tr>\n",
       "    <tr>\n",
       "      <th>4</th>\n",
       "      <td>1</td>\n",
       "      <td>ANG MO KIO</td>\n",
       "      <td>3</td>\n",
       "      <td>218</td>\n",
       "      <td>ANG MO KIO AVE 1</td>\n",
       "      <td>07 TO 09</td>\n",
       "      <td>67.0</td>\n",
       "      <td>New Generation</td>\n",
       "      <td>1976</td>\n",
       "      <td>163000.0</td>\n",
       "      <td>2000</td>\n",
       "    </tr>\n",
       "  </tbody>\n",
       "</table>\n",
       "</div>"
      ],
      "text/plain": [
       "   month        town no_of_rooms block       street_name no_of_floors  \\\n",
       "0      1  ANG MO KIO          3    170  ANG MO KIO AVE 4     07 TO 09   \n",
       "1      1  ANG MO KIO          3    174  ANG MO KIO AVE 4     04 TO 06   \n",
       "2      1  ANG MO KIO          3    216  ANG MO KIO AVE 1     07 TO 09   \n",
       "3      1  ANG MO KIO          3    215  ANG MO KIO AVE 1     07 TO 09   \n",
       "4      1  ANG MO KIO          3    218  ANG MO KIO AVE 1     07 TO 09   \n",
       "\n",
       "   floor_area_sqm       flat_type  lease_commence_date  resale_price  year  \n",
       "0            69.0        Improved                 1986      147000.0  2000  \n",
       "1            61.0        Improved                 1986      144000.0  2000  \n",
       "2            73.0  New Generation                 1976      159000.0  2000  \n",
       "3            73.0  New Generation                 1976      167000.0  2000  \n",
       "4            67.0  New Generation                 1976      163000.0  2000  "
      ]
     },
     "execution_count": 38,
     "metadata": {},
     "output_type": "execute_result"
    }
   ],
   "source": [
    "df.head()"
   ]
  },
  {
   "cell_type": "code",
   "execution_count": 39,
   "metadata": {},
   "outputs": [],
   "source": [
    "# df.drop(data[data[\"no_of_rooms\"] == 'ULTI-GENERATION'].index, inplace=True)\n",
    "# df.drop(data[data[\"no_of_rooms\"] == 'ULTI GENERATION'].index, inplace=True)"
   ]
  },
  {
   "cell_type": "code",
   "execution_count": 40,
   "metadata": {},
   "outputs": [
    {
     "data": {
      "text/plain": [
       "array(['3 ', '4 ', '5 ', 'EXECUTIVE', '2 ', 'ULTI-GENERATION', '1 ',\n",
       "       'ULTI GENERATION'], dtype=object)"
      ]
     },
     "execution_count": 40,
     "metadata": {},
     "output_type": "execute_result"
    }
   ],
   "source": [
    "df[\"no_of_rooms\"].unique()"
   ]
  },
  {
   "cell_type": "code",
   "execution_count": 41,
   "metadata": {},
   "outputs": [],
   "source": [
    "df[\"no_of_rooms\"].replace({\"EXECUTIVE\": 6}, inplace=True)"
   ]
  },
  {
   "cell_type": "code",
   "execution_count": 42,
   "metadata": {},
   "outputs": [
    {
     "data": {
      "text/plain": [
       "array(['3 ', '4 ', '5 ', 6, '2 ', 'ULTI-GENERATION', '1 ',\n",
       "       'ULTI GENERATION'], dtype=object)"
      ]
     },
     "execution_count": 42,
     "metadata": {},
     "output_type": "execute_result"
    }
   ],
   "source": [
    "df[\"no_of_rooms\"].unique()"
   ]
  },
  {
   "cell_type": "markdown",
   "metadata": {},
   "source": [
    "#40"
   ]
  },
  {
   "cell_type": "code",
   "execution_count": 43,
   "metadata": {},
   "outputs": [],
   "source": [
    "# df[\"no_of_rooms\"] = df[\"no_of_rooms\"].astype(float)"
   ]
  },
  {
   "cell_type": "code",
   "execution_count": 44,
   "metadata": {},
   "outputs": [
    {
     "name": "stdout",
     "output_type": "stream",
     "text": [
      "<class 'pandas.core.frame.DataFrame'>\n",
      "Index: 918086 entries, 0 to 52202\n",
      "Data columns (total 11 columns):\n",
      " #   Column               Non-Null Count   Dtype  \n",
      "---  ------               --------------   -----  \n",
      " 0   month                918086 non-null  int32  \n",
      " 1   town                 918086 non-null  object \n",
      " 2   no_of_rooms          918086 non-null  object \n",
      " 3   block                918086 non-null  object \n",
      " 4   street_name          918086 non-null  object \n",
      " 5   no_of_floors         918086 non-null  object \n",
      " 6   floor_area_sqm       918086 non-null  float64\n",
      " 7   flat_type            918086 non-null  object \n",
      " 8   lease_commence_date  918086 non-null  int64  \n",
      " 9   resale_price         918086 non-null  float64\n",
      " 10  year                 918086 non-null  int32  \n",
      "dtypes: float64(2), int32(2), int64(1), object(6)\n",
      "memory usage: 77.0+ MB\n"
     ]
    }
   ],
   "source": [
    "df.info()"
   ]
  },
  {
   "cell_type": "code",
   "execution_count": 45,
   "metadata": {},
   "outputs": [
    {
     "data": {
      "text/plain": [
       "array(['ANG MO KIO', 'BEDOK', 'BISHAN', 'BUKIT BATOK', 'BUKIT MERAH',\n",
       "       'BUKIT PANJANG', 'BUKIT TIMAH', 'CENTRAL AREA', 'CHOA CHU KANG',\n",
       "       'CLEMENTI', 'GEYLANG', 'HOUGANG', 'JURONG EAST', 'JURONG WEST',\n",
       "       'KALLANG/WHAMPOA', 'MARINE PARADE', 'PASIR RIS', 'QUEENSTOWN',\n",
       "       'SENGKANG', 'SERANGOON', 'TAMPINES', 'TOA PAYOH', 'WOODLANDS',\n",
       "       'YISHUN', 'SEMBAWANG', 'PUNGGOL', 'LIM CHU KANG'], dtype=object)"
      ]
     },
     "execution_count": 45,
     "metadata": {},
     "output_type": "execute_result"
    }
   ],
   "source": [
    "df[\"town\"].unique()"
   ]
  },
  {
   "cell_type": "code",
   "execution_count": 46,
   "metadata": {},
   "outputs": [
    {
     "name": "stdout",
     "output_type": "stream",
     "text": [
      "['170', '174', '216', '215', '218', '320', '330', '332', '333', '404', '417', '418', '419', '421', '440', '443', '445', '446', '447', '435', '433', '434', '432', '471', '475', '476', '473', '463', '462', '560', '558', '577', '561', '557', '541', '248', '214', '235', '233', '302', '343', '346', '121', '120', '129', '127', '422', '571', '570', '585', '586', '565', '107', '117', '118', '109', '610', '607', '644', '624', '156', '155', '631', '601', '502', '503', '643', '649', '151', '180', '646', '639', '635', '633', '512', '507', '222', '102', '304', '226', '336', '337', '416', '436', '470', '472', '326', '329', '103', '324', '562', '112', '110', '177', '175', '537', '535', '648', '179', '182', '640', '638', '634', '511', '221', '402', '437', '539', '545', '501', '521', '620', '259', '253', '317', '306', '104A', '618', '74', '76', '77', '534', '617', '3', '2', '18', '36', '32', '40', '37', '27', '57', '55', '59', '423', '522', '548', '515', '401', '105', '92', '108', '116', '420', '202', '201', '213', '217', '134', '138', '529', '530', '509', '526', '532', '546', '84', '89', '88', '703', '702', '704', '709', '609', '616', '740', '33', '69', '46', '39', '44', '45', '50', '24', '210', '35', '7', '6', '52', '51', '717', '718', '723', '125', '132', '517', '408', '411', '133', '100', '82', '78', '81', '124', '707', '135', '527', '528', '547', '623', '43', '63', '62', '128', '149', '165', '172', '415', '505', '94E', '714', '26', '53', '645', '137', '72', '20', '21', '60', '636', '642', '10E', '10B', '10D', '114', '160', '104', '23', '313', '150A', '115', '193', '406', '123', '254', '249', '251', '234', '236', '285', '229', '266', '270', '278', '451', '454', '308', '122', '130', '126', '191', '195', '407', '168', '183', '190', '166', '153', '223', '310', '227', '187', '245', '444', '148', '504', '506', '164', '162', '206', '208', '205', '341', '414', '265', '246', '231', '212', '367', '360', '368', '318', '321', '410', '146', '280', '283', '272', '374', '342', '413', '106', '268', '161', '211', '340', '345', '540', '238', '244', '232', '219', '305', '364', '363', '316', '322', '301', '319', '325', '327', '331', '338', '350', '531', '510', '426', '286', '171', '366', '542', '28', '131', '1', '5', '8', '15', '16', '13', '142', '145', '144', '54', '75', '65', '29', '22', '17', '113', '140', '67', '73', '230', '143', '276', '275', '255', '403', '207', '243', '111', '4', '10', '30', '668', '269A', '334', '637', '288', '412', '427', '439', '430', '220', '352', '354', '355', '514', '516', '566', '708', '611', '612', '613', '615', '621', '25', '279', '438', '307', '751', '752', '760', '550', '568', '569', '619', '518', '563', '204', '273', '754', '756', '757', '523', '605', '606', '287', '604', '335', '429', '428', '450', '311', '309', '303', '375', '371', '323', '339', '602', '729', '706', '710', '715', '351', '315', '348', '712', '716', '66', '98', '87', '85', '19', '9', '91', '41', '58', '101', '12', '61', '48', '83', '314', '31', '344', '661', '667', '669', '119', '247', '328', '626', '456', '603', '676', '544', '553', '551', '536', '686', '405', '711', '242', '513', '673', '675', '680', '678', '685', '687', '697', '630', '468', '449', '628', '833', '834', '34', '241', '261', '264', '209', '257', '322A', '185', '186', '169', '425', '487', '459', '477', '520', '917', '929', '484', '491', '481', '480', '498', '263', '431', '721', '474', '448', '554', '731', '749', '734', '739', '735', '738', '813', '825', '850', '852', '865', '854', '858', '948', '945', '913', '952', '940', '921', '961', '359', '466', '941', '949', '728', '467', '732', '733', '758', '736', '826', '816', '811', '863', '866', '857', '934', '923', '361', '552', '705', '836', '848', '200', '828', '860', '861', '862', '918', '549', '910', '68', '96', '14', '681', '11', '807', '461', '38', '614', '629', '627', '478', '458', '409', '453', '228', '519', '572', '573', '574', '575', '746', '755', '764', '765', '555', '576', '744', '745', '753', '763', '720', '725', '141', '647', '651', '152', '158', '271', '465', '500', '582', '713', '86', '80', '225', '240', '312', '808', '269', '274', '297', '277', '853', '881', '925', '157', '201D', '201E', '820', '827', '806', '859', '878', '486B', '281', '347', '349', '353', '362', '487B', '490A', '899', '899A', '898A', '888', '842B', '837', '870', '871', '871A', '935', '916', '911', '927', '933', '239', '296', '497B', '150', '154', '815', '859A', '394', '493A', '486A', '384', '389', '356', '358', '496B', '496C', '842', '840', '857A', '864', '260', '479', '842F', '497A', '944', '495B', '495C', '856F', '942', '856D', '497F', '163', '173', '85A', '85B', '203', '94', '47', '250', '224', '844', '843', '875', '841', '882', '801', '845', '855', '802', '822', '872', '821', '139', '803', '830', '832', '867', '869', '781', '829', '701', '774', '659', '797', '722', '772', '766', '390', '930', '622', '762', '879', '838', '237', '291', '750', '737', '788', '768', '770', '655', '662', '289', '794', '804', '787', '796', '799', '726', '759', '868', '776', '805', '792', '387', '293', '877', '666', '441', '442', '452', '578', '556', '424', '524', '625', '564', '176', '253A', '533', '608', '42', '657', '508', '93', '97', '99', '10F', '188', '136', '369', '64', '49', '559', '376', '379', '373', '381', '724', '660', '688', '695', '674', '683', '457', '665', '658', '831', '689', '696', '464', '252', '455', '221A', '219A', '258', '490', '485', '908', '928', '543', '743', '810', '909', '931', '980', '357', '460', '979', '262', '747', '819', '847', '849', '469', '906', '159', '71', '79', '700', '147', '189', '771', '719', '194', '538', '581', '584', '39A', '27A', '23A', '7A', '267', '282', '295', '818', '894A', '898', '851', '824', '907', '902', '936', '395', '392', '284', '489A', '487C', '897A', '857B', '914', '812', '497C', '393', '880A', '496F', '494B', '492B', '298', '372', '886', '903', '391', '842G', '926', '912', '497G', '497H', '895', '889', '867A', '184', '199', '80A', '256', '1A', '846', '873', '874', '876', '823', '365', '742', '779', '784', '783', '795', '800', '785', '790', '773', '663', '388', '104B', '525', '650', '654', '70', '56', '90', '664', '178', '95', '789', '377', '730', '691', '692', '698', '835', '682', '690', '167', '492', '489', '814', '856', '922', '977', '943', '919', '905', '641', '767', '769', '761', '198', '567', '579', '580', '778', '780', '883', '946', '485B', '487A', '493E', '488B', '489B', '842H', '450E', '491D', '888A', '483', '842E', '932', '497D', '497J', '230H', '495E', '856C', '809', '839', '399', '397', '398', '880', '727', '786', '652', '587', '94B', '181', '196', '294', '791', '42A', '671', '632', '679', '225A', '217A', '939', '920', '488', '741', '782', '168A', '915', '201A', '493B', '450C', '491E', '491A', '489C', '491F', '491G', '491H', '842D', '230D', '495D', '495F', '172A', '82A', '80B', '99A', '101A', '817', '636A', '653', '386', '645A', '672', '94D', '197', '370', '677', '693', '223A', '938', '976', '966', '748', '777', '775', '583', '23B', '884', '885', '396', '230B', '493C', '858A', '496D', '496E', '383', '450F', '493D', '896', '82B', '798', '124A', '290', '378', '904', '495', '950', '978', '486', '684', '450D', '842C', '863A', '864A', '491C', '895A', '856E', '85C', '894D', '891A', '656', '640A', '670', '192', '269B', '506B', '924', '486C', '450A', '897', '498E', '498H', '498J', '488A', '490B', '862A', '498D', '230E', '856B', '894', '84B', '81A', '81B', '2A', '894C', '891B', '666A', '124B', '133A', '335A', '335B', '953', '4C', '482', '292', '494C', '450G', '498B', '896A', '498F', '894B', '892A', '892B', '975', '506A', '860B', '498A', '498G', '498L', '861A', '382', '492C', '230J', '84A', '94C', '4B', '48A', '498M', '492D', '874A', '101B', '893B', '893C', '893A', '29A', '535A', '367A', '230C', '385', '892', '99C', '947', '896C', '896B', '893D', '887', '230G', '495A', '895C', '897B', '897C', '796A', '299', '494', '491B', '899B', '830A', '891', '230F', '99B', '895B', '898B', '899C', '215A', '30A', '496G', '485A', '889A', '637A', '92A', '694', '860A', '893', '937', '793', '290F', '290B', '43A', '863B', '290G', '291A', '290C', '787B', '786B', '787E', '786C', '290D', '291D', '291B', '290E', '787D', '786F', '291E', '290A', '288D', '288B', '787C', '786D', '786E', '613A', '291C', '289A', '350A', '613B', '289B', '288A', '355A', '484A', '288G', '287D', '887A', '14B', '288C', '269C', '286A', '285B', '287C', '286D', '287A', '286B', '965', '287B', '286C', '289D', '285A', '285D', '974', '59A', '59B', '3A', '14A', '289F', '285C', '59C', '628B', '289C', '232A', '628A', '300', '684C', '288E', '962', '236A', '625B', '788E', '484C', '517C', '502A', '289E', '289G', '484B', '484D', '676A', '671A', '699B', '224D', '206A', '234A', '682A', '624A', '625A', '788B', '956', '828A', '124C', '886A', '624B', '788C', '288F', '485D', '296A', '296E', '673A', '485C', '670A', '951', '957', '206C', '224A', '123D', '205A', '153A', '296B', '698A', '958', '123E', '788D', '699C', '955', '699', '699A', '206B', '226A', '223C', '225B', '663A', '296D', '297D', '672A', '297C', '954', '964', '959', '223D', '223B', '224B', '226B', '297B', '380', '963', '969', '698B', '339A', '227A', '205C', '123A', '123C', '206D', '228A', '968', '698D', '228B', '123B', '224C', '795A', '517E', '667D', '228C', '297A', '517A', '517D', '205B', '682D', '103B', '970', '960', '698C', '664A', '664C', '192C', '226C', '683A', '682C', '682B', '103A', '106B', '973', '972', '664B', '664D', '339B', '227C', '259B', '116A', '681A', '681B', '683D', '683C', '115A', '106A', '296C', '660C', '663D', '667C', '668B', '668D', '684A', '650C', '357A', '188C', '188D', '116C', '681D', '683B', '684D', '672B', '971', '967', '650A', '667B', '668A', '668C', '680C', '681C', '684B', '685A', '685B', '663C', '191B', '116B', '259C', '250C', '663B', '667A', '679C', '685C', '188A', '117A', '117B', '186C', '227D', '188B', '192B', '63A', '650B', '648C', '686C', '360B', '353A', '292B', '190B', '227B', '192A', '117C', '250A', '648A', '686A', '648B', '679B', '665A', '360C', '121A', '122E', '260A', '186D', '119A', '250B', '250D', '189C', '596A', '649A', '686B', '356C', '185A', '191A', '186B', '261B', '185B', '185C', '261C', '187B', '261A', '63B', '674A', '356B', '257A', '203A', '187A', '121B', '302A', '120C', '225C', '112A', '660D', '680B', '669A', '340B', '190A', '121C', '257B', '119B', '120A', '120B', '203D', '588', '649B', '356A', '340A', '504C', '295C', '203C', '186A', '121D', '185D', '119D', '204C', '109B', '648D', '669D', '350B', '357B', '588C', '204B', '303B', '119C', '2C', '503B', '352C', '357C', '360A', '501A', '204A', '298A', '257C', '258D', '262D', '596C', '111A', '112B', '662B', '662D', '503C', '359A', '341B', '353B', '303A', '201C', '258A', '259A', '200D', '298B', '260C', '261D', '298D', '700C', '504B', '467B', '351C', '501B', '468D', '468A', '203E', '262A', '298C', '115B', '10C', '8B', '8A', '109A', '659A', '273D', '669C', '680A', '504D', '501C', '467A', '469B', '359C', '341A', '359B', '122D', '303C', '258B', '203B', '200A', '200B', '260B', '311C', '73A', '111B', '660A', '661A', '661B', '661C', '662A', '659C', '669B', '176D', '352A', '469A', '353C', '354B', '351B', '501D', '301A', '201B', '299B', '660B', '661D', '659D', '273A', '679A', '196B', '174A', '350C', '351A', '354C', '307A', '122A', '316A', '118A', '74A', '689A', '657B', '659B', '652C', '665B', '126A', '307C', '311A', '305D', '260D', '115C', '315A', '596D', '651A', '126C', '468C', '305A', '305C', '306C', '299A', '301B', '299C', '122C', '131B', '131C', '651B', '662C', '666B', '507D', '305B', '307D', '308A', '308B', '404B', '321C', '308C', '183B', '309A', '268A', '274D', '657A', '196D', '354A', '507C', '468B', '304B', '183D', '301D', '319B', '322C', '189A', '189B', '700A', '273B', '273C', '275B', '276A', '275D', '109C', '507A', '507B', '352B', '351D', '301C', '292A', '258C', '323C', '5A', '688A', '687D', '268B', '268C', '275A', '174D', '128B', '354D', '322B', '304A', '306A', '295A', '202C', '320A', '325A', '317C', '589', '700B', '671B', '688C', '689B', '276C', '658D', '105A', '321B', '295B', '309C', '158A', '202B', '688B', '176B', '102C', '162B', '589C', '588A', '320B', '122B', '687B', '692B', '658B', '656A', '106D', '589D', '309B', '312B', '596B', '979B', '980B', '673C', '652B', '126D', '172B', '323A', '324A', '311D', '309D', '319C', '320D', '321A', '183A', '323B', '315C', '687C', '690C', '276B', '674B', '652A', '653C', '658C', '126B', '199C', '175A', '311B', '314C', '314B', '689F', '673B', '658A', '175C', '128A', '128C', '324B', '325C', '313B', '318A', '318C', '157A', '157D', '689E', '686D', '687A', '980C', '276D', '275C', '656C', '102B', '196C', '589A', '589B', '184C', '317A', '317B', '690A', '655A', '171C', '196A', '199D', '173C', '166A', '171B', '105D', '101C', '197A', '199A', '199B', '110D', '173D', '128D', '509B', '183C', '317D', '325B', '314A', '313A', '310A', '158D', '302D', '262B', '689C', '315B', '655B', '107B', '102D', '105B', '175D', '324D', '318D', '310B', '403A', '158C', '118B', '118C', '690D', '980A', '108C', '171A', '101D', '110B', '107C', '107D', '110C', '641C', '319A', '184A', '159A', '163B', '642A', '105C', '176C', '106C', '163A', '184B', '313C', '157B', '979A', '980D', '656B', '653A', '102A', '175B', '174B', '320C', '764A', '118D', '692A', '691B', '981C', '656D', '638B', '638C', '642B', '690B', '978D', '978C', '174C', '109D', '197B', '77A', '981A', '653B', '271C', '108B', '161B', '172C', '637B', '493', '314D', '318B', '689D', '691A', '271A', '271D', '642D', '173A', '173B', '641A', '509A', '403C', '407B', '157C', '690F', '981B', '107A', '316B', '690E', '17A', '984A', '271B', '272B', '161A', '176A', '110A', '412A', '688E', '272C', '272D', '313D', '158B', '979C', '272A', '638A', '504A', '588B', '413B', '688F', '4A', '642C', '103C', '160B', '637D', '312A', '406B', '654A', '654B', '162A', '641B', '207B', '316C', '405C', '406C', '403B', '408B', '985B', '984D', '508C', '207D', '407A', '688D', '984C', '985A', '984B', '637C', '207A', '981D', '466A', '510B', '412B', '413A', '202A', '654C', '160A', '510A', '404A', '406A', '466B', '503A', '671C', '268D', '405B', '204D', '324C', '166B', '262C', '633A', '207C', '306B', '403D', '409A', '165A', '508B', '858B', '274A', '466C', '165B', '508A', '466D', '408A', '405A', '409B', '265B', '267A', '6A', '3C', '3D', '75A', '265C', '269D', '408C', '2D', '274C', '266A', '265D', '302C', '307B', '267B', '6B', '76A', '636B', '264F', '2B', '3B', '265A', '26A', '677B', '986C', '675A', '195D', '265E', '264C', '25B', '989D', '987D', '195C', '75B', '987C', '337C', '678C', '988A', '274B', '266B', '264E', '986A', '195B', '28B', '266C', '195A', '220A', '990A', '264B', '79B', '195E', '264A', '264D', '632B', '633B', '27B', '221B', '25A', '26D', '989A', '987B', '79C', '79E', '26B', '436B', '990C', '986B', '635B', '167D', '220C', '26C', '987A', '632A', '989B', '632C', '79A', '677A', '75C', '1F', '1C', '1B', '1E', '337B', '338A', '677C', '38D', '635A', '302B', '303D', '61B', '18C', '28A', '18D', '209A', '208B', '438B', '439A', '277B', '518C', '515C', '518A', '1G', '1D', '167B', '62A', '438A', '441A', '518B', '219D', '990B', '338B', '339D', '676B', '337D', '678A', '38A', '28C', '439B', '209C', '439C', '441C', '277C', '219C', '219B', '221C', '675B', '678D', '167A', '18B', '208A', '518D', '515A', '515B', '337A', '441B', '270A', '441D', '277D', '515D', '79D', '988B', '38B', '61C', '436C', '310C', '678B', '635C', '62B', '28D', '339C', '989C', '436A', '436D', '601C', '209B', '127D', '168B', '602A', '18A', '277A', '220B', '988C', '38C', '601D', '604B', '601A', '603A', '443A', '127A', '602C', '602B', '306D', '603B', '603C', '61A', '410A', '211D', '210B', '210A', '410C', '601B', '604C', '614B', '613D', '443C', '443B', '210C', '211A', '127C', '604A', '612A', '411A', '411B', '410B', '168C', '167C', '168D', '612D', '613C', '615C', '614A', '213B', '212C', '213A', '445B', '445A', '615B', '211B', '612C', '211C', '212B', '212A', '615A', '612B', '226E', '588D', '267C', '270B', '270C', '80C', '476C', '617C', '618B', '435A', '434A', '617B', '446C', '476B', '617D', '434B', '435B', '619C', '619A', '618C', '447A', '435C', '572B', '12B', '476A', '476D', '618D', '618A', '619B', '12A', '12C', '138B', '623C', '623A', '619D', '624C', '446B', '139A', '138A', '570C', '633C', '623B', '447B', '138C', '139B', '169B', '570A', '570B', '633D', '622A', '617A', '571A', '169C', '571C', '571B', '181A', '622B', '170C', '208C', '170B', '169A', '572A', '180A', '622C', '499B', '180B', '180C', '170A', '450B', '178D', '448A', '430D', '499A', '887C', '181B', '180D', '430C', '433B', '432B', '178A', '886D', '448B', '887B', '886C', '9B', '430A', '430B', '886B', '9A', '213C', '178B', '433A', '432A', '10A', '463B', '178C', '426A', '347A', '463C', '451A', '348D', '426C', '336B', '426D', '336C', '463A', '426B', '428B', '452B', '452A', '782A', '348A', '347B', '348C', '590A', '451B', '326A', '780B', '782D', '782B', '348B', '546B', '266D', '591A', '592B', '593A', '592C', '780E', '424D', '335C', '336A', '546A', '471A', '197C', '592A', '590B', '326B', '327A', '327C', '282B', '281B', '282A', '522A', '522C', '782C', '780A', '780C', '780D', '424A', '333B', '333A', '334B', '547D', '547A', '546C', '470A', '470C', '471B', '593B', '590C', '281A', '332C', '327B', '332A', '332B', '333D', '280A', '869A', '869B', '780F', '424C', '428A', '431C', '431B', '547B', '470B', '197D', '312C', '453B', '334A', '326C', '333C', '280B', '282C', '868A', '522B', '782E', '424B', '429B', '431D', '334C', '432D', '432C', '527A', '453A', '331C', '279C', '326D', '868C', '523B', '523C', '342B', '334D', '526A', '525C', '524A', '453D', '279A', '440A', '329A', '453C', '279B', '519C', '431A', '547C', '527B', '440C', '329B', '440B', '331B', '524B', '520A', '519B', '523A', '519D', '342C', '550B', '528B', '525A', '526D', '526B', '520C', '523D', '548B', '549B', '634A', '549A', '528A', '525B', '526C', '330B', '331A', '336D', '890C', '890A', '519A', '429A', '505C', '747A', '748A', '748C', '747B', '550A', '475C', '475B', '138D', '527C', '528C', '672D', '330A', '890B', '342A', '505B', '505D', '634B', '477A', '475D', '524C', '416B', '414A', '494E', '505A', '748B', '747C', '475A', '477B', '527D', '672C', '414B', '416C', '415B', '548A', '636C', '477C', '415A', '416A', '415C', '472C', '494D', '807B', '665C', '489D', '490D', '471C', '472A', '807A', '488C', '469C', '442D', '490C', '376A', '376B', '530C', '670C', '807C', '808A', '443D', '488D', '17B', '670B', '472B', '293D', '871C', '808C', '96A', '442B', '442C', '256C', '256D', '868B', '376C', '530B', '530A', '473A', '294A', '164A', '808B', '95C', '815A', '256B', '256A', '164B', '293A', '164C', '870A', '871B', '809B', '803A', '805A', '808D', '809A', '530D', '676C', '293C', '216A', '520B', '889C', '697A', '676D', '316D', '163C', '293B', '215B', '889B', '194B', '194A', '96B', '70A', '95B', '70B', '95A', '70C', '803B', '804A', '815C', '804B', '815B', '812C', '811A', '803C', '816A', '805B', '816B', '803D', '810A', '817A', '805C', '817B', '810B', '805D', '802A', '801A', '801C', '801B', '818B', '812B', '818A', '812A', '818C', '811B', '801D', '817C', '802B', '802C', '473B', '473C', '473D', '932B', '932A', '364B', '365A', '364A', '365B', '933A', '365C', '365D', '697B', '697C', '218C', '8C', '113C', '113D', '113B', '113A', '677D', '217C', '217B', '217D', '216B', '162C', '278B', '216C', '278A', '216D', '278C', '878B', '879B', '878A', '879A', '889D', '717B', '717A', '511A', '506C', '511B', '512A', '511C', '512B', '512C', '509C', '502B', '813A', '502D', '455C', '218B', '502C', '455A', '455B', '120D', '418A', '813B', '513A', '561A', '218D', '561B', '222A', '130B', '130A', '129A', '574B', '785B', '226F', '560A', '218A', '129C', '338C', '785C', '513D', '513B', '104D', '338D', '784C', '785D', '513C', '129B', '418B', '784A', '675D', '675C', '418C', '417A', '131A', '574A', '573A', '784B', '693A', '783A', '231B', '108A', '573C', '691D', '573B', '691C', '783C', '783D', '91A', '231A', '104C', '115D', '492G', '783B', '694A', '693B', '449B', '446A', '448C', '694D', '694B', '440D', '292C', '93A', '90B', '233B', '234B', '694C', '693C', '449A', '93B', '92B', '90A', '997A', '997C', '997B', '233A', '232C', '233C', '232B', '494G', '494H', '442A', '363A', '494J', '322D', '362C', '140B', '366A', '363B', '140A', '362B', '362A', '366B', '992B', '461A', '461D', '998B', '991A', '992A', '140D', '140C', '996A', '996B', '998A', '991B', '182A', '462A', '461C', '461B', '995A', '996C', '182B', '462C', '462B', '995C', '995B', '999B', '323D', '606B', '462D', '605B', '605A', '605C', '437A', '460A', '606A', '606D', '438C']\n"
     ]
    }
   ],
   "source": [
    "# converting arr to py list\n",
    "unique_blocks_list = df[\"block\"].unique().tolist()\n",
    "print(unique_blocks_list)"
   ]
  },
  {
   "cell_type": "code",
   "execution_count": 47,
   "metadata": {},
   "outputs": [
    {
     "data": {
      "text/plain": [
       "array(['ANG MO KIO AVE 4', 'ANG MO KIO AVE 1', 'ANG MO KIO AVE 10',\n",
       "       'ANG MO KIO AVE 2', 'ANG MO KIO AVE 3', 'ANG MO KIO AVE 5',\n",
       "       'ANG MO KIO AVE 6', 'ANG MO KIO AVE 8', 'ANG MO KIO AVE 9',\n",
       "       'ANG MO KIO ST 21', 'ANG MO KIO ST 31', 'ANG MO KIO ST 11',\n",
       "       'BEDOK RESERVOIR RD', 'BEDOK NTH RD', 'BEDOK NTH ST 3',\n",
       "       'BEDOK STH AVE 1', 'BEDOK STH RD', 'CHAI CHEE AVE',\n",
       "       'NEW UPP CHANGI RD', 'CHAI CHEE DR', 'CHAI CHEE RD',\n",
       "       'BEDOK NTH AVE 1', 'BEDOK NTH AVE 2', 'BEDOK NTH AVE 3',\n",
       "       'BEDOK NTH AVE 4', 'BEDOK NTH ST 1', 'BEDOK NTH ST 2',\n",
       "       'BEDOK NTH ST 4', 'BEDOK STH AVE 2', 'BEDOK STH AVE 3',\n",
       "       'CHAI CHEE ST', 'LENGKONG TIGA', 'JLN TENAGA', 'SIN MING RD',\n",
       "       'SHUNFU RD', 'BISHAN ST 11', 'BISHAN ST 12', 'BISHAN ST 13',\n",
       "       'SIN MING AVE', 'BISHAN ST 22', 'BISHAN ST 23', 'BISHAN ST 24',\n",
       "       'BRIGHT HILL DR', 'BT BATOK ST 51', 'BT BATOK ST 52',\n",
       "       'BT BATOK ST 11', 'BT BATOK ST 21', 'BT BATOK ST 34',\n",
       "       'BT BATOK WEST AVE 4', 'BT BATOK WEST AVE 8',\n",
       "       'BT BATOK EAST AVE 4', 'BT BATOK EAST AVE 5', 'BT BATOK ST 31',\n",
       "       'BT BATOK ST 32', 'BT BATOK ST 33', 'BT BATOK WEST AVE 6',\n",
       "       'BT BATOK EAST AVE 3', 'BT BATOK CTRL', 'BT BATOK WEST AVE 2',\n",
       "       'TAMAN HO SWEE', 'TELOK BLANGAH CRES', 'HOY FATT RD',\n",
       "       'BT MERAH VIEW', 'JLN BT MERAH', 'KIM TIAN RD', 'TELOK BLANGAH DR',\n",
       "       'TELOK BLANGAH RISE', 'TELOK BLANGAH WAY', 'ZION RD',\n",
       "       'BT PURMEI RD', 'TELOK BLANGAH HTS', 'BEO CRES', 'HAVELOCK RD',\n",
       "       'JLN BT HO SWEE', 'JLN KLINIK', 'REDHILL CL', 'HENDERSON CRES',\n",
       "       'BT MERAH CTRL', 'DELTA AVE', 'EVERTON PK', 'KIM TIAN PL',\n",
       "       'DEPOT RD', 'SPOTTISWOODE PK RD', 'GANGSA RD', 'PENDING RD',\n",
       "       'PETIR RD', 'BANGKIT RD', 'BT PANJANG RING RD', 'FAJAR RD',\n",
       "       'SAUJANA RD', 'EMPRESS RD', \"QUEEN'S RD\", 'TOH YI DR', 'JLN KUKOH',\n",
       "       'KELANTAN RD', 'SAGO LANE', 'TG PAGAR PLAZA', 'CHANDER RD',\n",
       "       'ROWELL RD', 'VEERASAMY RD', 'QUEEN ST', 'ROCHOR RD',\n",
       "       'KRETA AYER RD', 'TECK WHYE AVE', 'TECK WHYE LANE',\n",
       "       'CHOA CHU KANG AVE 1', 'CHOA CHU KANG AVE 2',\n",
       "       'CHOA CHU KANG AVE 3', 'CHOA CHU KANG AVE 4', 'CHOA CHU KANG CTRL',\n",
       "       'CHOA CHU KANG NTH 7', 'CHOA CHU KANG ST 51',\n",
       "       'CHOA CHU KANG ST 52', 'CHOA CHU KANG ST 53',\n",
       "       'CHOA CHU KANG ST 62', 'CHOA CHU KANG NTH 5',\n",
       "       'CHOA CHU KANG NTH 6', 'CLEMENTI WEST ST 1', 'CLEMENTI AVE 1',\n",
       "       'CLEMENTI AVE 2', 'CLEMENTI AVE 3', 'CLEMENTI AVE 4',\n",
       "       'CLEMENTI AVE 5', 'CLEMENTI WEST ST 2', 'WEST COAST DR',\n",
       "       'WEST COAST RD', 'CLEMENTI ST 13', 'CLEMENTI AVE 6', 'CIRCUIT RD',\n",
       "       'GEYLANG SERAI', 'JLN PASAR BARU', 'ALJUNIED CRES', 'EUNOS CRES',\n",
       "       'HAIG RD', 'PAYA LEBAR WAY', 'SIMS DR', 'SIMS PL', 'DAKOTA CRES',\n",
       "       'GEYLANG EAST AVE 1', 'PINE CL', 'UBI AVE 1', 'BALAM RD',\n",
       "       'MACPHERSON LANE', 'ALJUNIED RD', 'GEYLANG EAST CTRL',\n",
       "       'EUNOS RD 5', 'HOUGANG AVE 3', 'HOUGANG AVE 8', 'HOUGANG AVE 4',\n",
       "       'HOUGANG AVE 5', 'HOUGANG AVE 1', 'HOUGANG AVE 10',\n",
       "       'HOUGANG AVE 7', 'HOUGANG ST 51', 'HOUGANG ST 52', 'HOUGANG ST 61',\n",
       "       'LOR AH SOO', 'HOUGANG AVE 2', 'HOUGANG ST 11', 'HOUGANG ST 22',\n",
       "       'HOUGANG AVE 6', 'HOUGANG CTRL', 'HOUGANG ST 21', 'TEBAN GDNS RD',\n",
       "       'JURONG EAST ST 32', 'JURONG EAST ST 13', 'JURONG EAST ST 21',\n",
       "       'JURONG EAST ST 24', 'JURONG EAST AVE 1', 'PANDAN GDNS',\n",
       "       'JURONG EAST ST 31', 'BOON LAY AVE', 'BOON LAY DR', 'BOON LAY PL',\n",
       "       'HO CHING RD', 'YUNG KUANG RD', 'JURONG WEST AVE 1',\n",
       "       'JURONG WEST ST 41', 'JURONG WEST ST 42', 'JURONG WEST ST 52',\n",
       "       'JURONG WEST ST 91', 'JURONG WEST ST 92', 'JURONG WEST AVE 5',\n",
       "       'JURONG WEST ST 71', 'JURONG WEST ST 72', 'JURONG WEST ST 73',\n",
       "       'JURONG WEST ST 74', 'JURONG WEST ST 75', 'JURONG WEST ST 81',\n",
       "       'YUNG AN RD', 'JLN BATU', 'BEACH RD', 'BENDEMEER RD',\n",
       "       'CRAWFORD LANE', 'GEYLANG BAHRU', 'KALLANG BAHRU', 'LOR LIMAU',\n",
       "       \"ST. GEORGE'S RD\", 'UPP BOON KENG RD', 'WHAMPOA DR',\n",
       "       'WHAMPOA WEST', 'GLOUCESTER RD', 'JLN BAHAGIA', 'LOR 3 GEYLANG',\n",
       "       'RACE COURSE RD', 'TOWNER RD', 'JLN RAJAH', 'KENT RD',\n",
       "       \"ST. GEORGE'S LANE\", 'AH HOOD RD', \"KING GEORGE'S AVE\",\n",
       "       'MCNAIR RD', 'WHAMPOA RD', 'MARINE TER', 'MARINE CRES',\n",
       "       'MARINE DR', 'ELIAS RD', 'PASIR RIS DR 1', 'PASIR RIS DR 3',\n",
       "       'PASIR RIS DR 4', 'PASIR RIS DR 6', 'PASIR RIS ST 11',\n",
       "       'PASIR RIS ST 12', 'PASIR RIS ST 21', 'PASIR RIS ST 52',\n",
       "       'PASIR RIS ST 53', 'PASIR RIS ST 71', 'PASIR RIS DR 10',\n",
       "       'PASIR RIS ST 13', 'PASIR RIS ST 51', 'PASIR RIS ST 72',\n",
       "       'PASIR RIS ST 41', \"C'WEALTH CL\", \"C'WEALTH DR\", 'TANGLIN HALT RD',\n",
       "       'DOVER CRES', 'GHIM MOH RD', 'HOLLAND AVE', 'HOLLAND CL',\n",
       "       'HOLLAND DR', 'MEI LING ST', 'STIRLING RD', 'DOVER RD',\n",
       "       \"C'WEALTH CRES\", 'CLARENCE LANE', 'STRATHMORE AVE',\n",
       "       'DOVER CL EAST', 'SELETAR WEST FARMWAY 6', 'LOR LEW LIAN',\n",
       "       'SERANGOON AVE 2', 'SERANGOON NTH AVE 1', 'SERANGOON AVE 4',\n",
       "       'SERANGOON CTRL', 'SERANGOON AVE 1', 'SERANGOON NTH AVE 4',\n",
       "       'SERANGOON AVE 3', 'SERANGOON NTH AVE 2', 'TAMPINES ST 41',\n",
       "       'TAMPINES AVE 4', 'TAMPINES ST 11', 'TAMPINES ST 12',\n",
       "       'TAMPINES ST 21', 'TAMPINES ST 22', 'TAMPINES ST 23',\n",
       "       'TAMPINES ST 24', 'TAMPINES ST 42', 'TAMPINES ST 44',\n",
       "       'TAMPINES ST 82', 'TAMPINES ST 83', 'TAMPINES ST 84',\n",
       "       'TAMPINES ST 91', 'TAMPINES ST 81', 'SIMEI RD', 'SIMEI ST 1',\n",
       "       'SIMEI ST 4', 'TAMPINES AVE 5', 'TAMPINES AVE 8', 'TAMPINES AVE 9',\n",
       "       'TAMPINES CTRL 1', 'TAMPINES ST 33', 'TAMPINES ST 34',\n",
       "       'TAMPINES ST 45', 'SIMEI ST 2', 'TAMPINES AVE 7', 'TAMPINES ST 32',\n",
       "       'TAMPINES ST 43', 'LOR 2 TOA PAYOH', 'KIM KEAT AVE',\n",
       "       'LOR 1 TOA PAYOH', 'LOR 3 TOA PAYOH', 'LOR 4 TOA PAYOH',\n",
       "       'LOR 5 TOA PAYOH', 'LOR 7 TOA PAYOH', 'LOR 8 TOA PAYOH',\n",
       "       'TOA PAYOH EAST', 'TOA PAYOH NTH', 'POTONG PASIR AVE 1',\n",
       "       'POTONG PASIR AVE 2', 'LOR 6 TOA PAYOH', 'UPP ALJUNIED LANE',\n",
       "       'TOA PAYOH CTRL', 'JOO SENG RD', 'KIM KEAT LINK',\n",
       "       'POTONG PASIR AVE 3', 'MARSILING DR', 'MARSILING LANE',\n",
       "       'WOODLANDS ST 13', 'WOODLANDS ST 31', 'WOODLANDS AVE 1',\n",
       "       'WOODLANDS ST 41', 'MARSILING RISE', 'WOODLANDS AVE 4',\n",
       "       'WOODLANDS ST 81', 'WOODLANDS ST 82', 'WOODLANDS ST 83',\n",
       "       'WOODLANDS ST 11', 'WOODLANDS ST 32', 'WOODLANDS AVE 9',\n",
       "       'MARSILING RD', 'YISHUN AVE 11', 'YISHUN AVE 6', 'YISHUN CTRL',\n",
       "       'YISHUN RING RD', 'YISHUN ST 11', 'YISHUN ST 22', 'YISHUN ST 61',\n",
       "       'YISHUN ST 81', 'YISHUN AVE 5', 'YISHUN ST 21', 'YISHUN AVE 3',\n",
       "       'YISHUN AVE 4', 'YISHUN ST 71', 'YISHUN AVE 7', 'YISHUN AVE 9',\n",
       "       'YISHUN CTRL 1', 'YISHUN ST 72', 'YISHUN AVE 2', 'SILAT AVE',\n",
       "       'LENGKOK BAHRU', 'JLN RUMAH TINGGI', 'CASHEW RD', 'NEW MKT RD',\n",
       "       'SELEGIE RD', 'BAIN ST', 'CHOA CHU KANG LOOP', \"C'WEALTH AVE WEST\",\n",
       "       'CASSIA CRES', 'OLD AIRPORT RD', 'UPP SERANGOON RD',\n",
       "       'JURONG WEST ST 93', 'YUNG HO RD', 'YUNG PING RD', 'OWEN RD',\n",
       "       \"JLN MA'MOR\", 'WHAMPOA STH', 'CAMBRIDGE RD', 'DORSET RD',\n",
       "       \"C'WEALTH AVE\", 'MARGARET DR', \"QUEEN'S CL\", 'SERANGOON CTRL DR',\n",
       "       'WOODLANDS CTR RD', 'MARSILING CRES', 'WOODLANDS AVE 3',\n",
       "       'JLN DAMAI', 'INDUS RD', 'TIONG BAHRU RD', 'FARRER RD',\n",
       "       'UPP CROSS ST', 'WATERLOO ST', 'BUFFALO RD', 'CLEMENTI ST 14',\n",
       "       'JOO CHIAT RD', 'JLN DUA', 'PIPIT RD', 'YUNG LOH RD',\n",
       "       'NTH BRIDGE RD', 'BOON KENG RD', 'TESSENSOHN RD', 'HENDERSON RD',\n",
       "       'CHIN SWEE RD', 'JLN BERSEH', 'CHOA CHU KANG DR',\n",
       "       'CHOA CHU KANG ST 54', 'KG KAYU RD', 'QUEENSWAY',\n",
       "       'BT BATOK WEST AVE 7', 'REDHILL LANE', 'JURONG WEST ST 51',\n",
       "       'FRENCH RD', 'LIM LIAK ST', 'SIMS AVE', 'KANG CHING RD',\n",
       "       'TAH CHING RD', 'KG ARANG RD', 'JLN DUSUN', 'SIMEI ST 5',\n",
       "       'WOODLANDS AVE 5', 'WOODLANDS DR 50', 'EAST COAST RD',\n",
       "       'KIM PONG RD', 'TAO CHING RD', 'MOULMEIN RD', 'WOODLANDS DR 40',\n",
       "       'BT MERAH LANE 1', 'MOH GUAN TER', 'KG BAHRU HILL', 'SMITH ST',\n",
       "       'WOODLANDS DR 70', 'KIM CHENG ST', 'TAMPINES ST 71',\n",
       "       'WOODLANDS DR 42', 'JLN TENTERAM', 'SERANGOON NTH AVE 3',\n",
       "       'JELAPANG RD', 'BT BATOK ST 22', 'HOUGANG ST 91',\n",
       "       'WOODLANDS AVE 6', 'TAMPINES ST 72', 'WOODLANDS CIRCLE',\n",
       "       'CORPORATION DR', 'LOMPANG RD', 'WOODLANDS DR 72', 'SENG POH RD',\n",
       "       'CHOA CHU KANG ST 64', 'BT BATOK ST 24', 'JLN TECK WHYE',\n",
       "       'WOODLANDS CRES', 'WOODLANDS DR 60', 'CHANGI VILLAGE RD',\n",
       "       'BT BATOK ST 25', 'HOUGANG AVE 9', 'JURONG WEST CTRL 1',\n",
       "       'WOODLANDS RING RD', 'CHOA CHU KANG AVE 5', 'TOH GUAN RD',\n",
       "       'JURONG WEST ST 61', 'WOODLANDS DR 14', 'HOUGANG ST 92',\n",
       "       'CHOA CHU KANG CRES', 'SEMBAWANG CL', 'CANBERRA RD',\n",
       "       'SEMBAWANG CRES', 'SEMBAWANG VISTA', 'COMPASSVALE WALK',\n",
       "       'RIVERVALE ST', 'WOODLANDS DR 62', 'SEMBAWANG DR',\n",
       "       'WOODLANDS DR 53', 'WOODLANDS DR 52', 'RIVERVALE WALK',\n",
       "       'COMPASSVALE LANE', 'RIVERVALE DR', 'SENJA RD',\n",
       "       'JURONG WEST ST 65', 'RIVERVALE CRES', 'WOODLANDS DR 44',\n",
       "       'COMPASSVALE DR', 'WOODLANDS DR 16', 'COMPASSVALE RD',\n",
       "       'WOODLANDS DR 73', 'HOUGANG ST 31', 'JURONG WEST ST 64',\n",
       "       'GEYLANG EAST AVE 2', 'WOODLANDS DR 71', 'YISHUN ST 20',\n",
       "       'ADMIRALTY DR', 'COMPASSVALE ST', 'BEDOK RESERVOIR VIEW',\n",
       "       'YUNG SHENG RD', 'ADMIRALTY LINK', 'SENGKANG EAST WAY',\n",
       "       'ANG MO KIO ST 32', 'ANG MO KIO ST 52', 'BOON TIONG RD',\n",
       "       'JURONG WEST ST 62', 'ANCHORVALE LINK', 'CANBERRA LINK',\n",
       "       'COMPASSVALE CRES', 'CLEMENTI ST 12', 'MONTREAL DR',\n",
       "       'WELLINGTON CIRCLE', 'SENGKANG EAST RD', 'JURONG WEST AVE 3',\n",
       "       'ANCHORVALE LANE', 'REDHILL RD', 'SENJA LINK', 'EDGEFIELD PLAINS',\n",
       "       'ANCHORVALE DR', 'SEGAR RD', 'FARRER PK RD', 'PUNGGOL FIELD',\n",
       "       'EDGEDALE PLAINS', 'ANCHORVALE RD', 'CANTONMENT CL', 'JLN MEMBINA',\n",
       "       'FERNVALE LANE', 'JURONG WEST ST 25', 'CLEMENTI ST 11',\n",
       "       'PUNGGOL FIELD WALK', 'KLANG LANE', 'PUNGGOL CTRL', 'JELEBU RD',\n",
       "       'BUANGKOK CRES', 'WOODLANDS DR 75', 'BT BATOK WEST AVE 5',\n",
       "       'JELLICOE RD', 'PUNGGOL DR', 'JURONG WEST ST 24', 'SEMBAWANG WAY',\n",
       "       'FERNVALE RD', 'BUANGKOK LINK', 'FERNVALE LINK', 'JLN TIGA',\n",
       "       'YUAN CHING RD', 'COMPASSVALE LINK', 'LOWER DELTA RD',\n",
       "       'MARINE PARADE CTRL', 'COMPASSVALE BOW', 'PUNGGOL RD',\n",
       "       'BEDOK CTRL', 'PUNGGOL EAST', 'SENGKANG CTRL', 'HILLVIEW AVE',\n",
       "       'OUTRAM PK', 'SHORT ST', 'HU CHING RD', 'LIM CHU KANG RD',\n",
       "       'NILE RD', 'JLN MEMBINA BARAT', 'BUANGKOK STH FARMWAY 1',\n",
       "       'ALEXANDRA RD', 'SEMBAWANG RD', 'OUTRAM HILL', 'CANTONMENT RD',\n",
       "       'PUNGGOL PL', 'SENGKANG WEST AVE', 'TAMPINES CTRL 7',\n",
       "       'GHIM MOH LINK', 'SIMEI LANE', 'YISHUN ST 41',\n",
       "       'TELOK BLANGAH ST 31', 'JLN KAYU', 'LOR 1A TOA PAYOH',\n",
       "       'PUNGGOL WALK', 'SENGKANG WEST WAY', 'BUANGKOK GREEN',\n",
       "       'PUNGGOL WAY', 'YISHUN ST 31', 'TECK WHYE CRES', 'MONTREAL LINK',\n",
       "       'UPP SERANGOON CRES', 'SUMANG LINK', 'SENGKANG EAST AVE',\n",
       "       'YISHUN AVE 1', 'ANCHORVALE CRES', 'ANCHORVALE ST',\n",
       "       'TAMPINES CTRL 8', 'YISHUN ST 51', 'UPP SERANGOON VIEW',\n",
       "       'TAMPINES AVE 1', 'BEDOK RESERVOIR CRES', 'ANG MO KIO ST 61',\n",
       "       'DAWSON RD', 'FERNVALE ST', 'HOUGANG ST 32', 'TAMPINES ST 86',\n",
       "       'SUMANG WALK', 'CHOA CHU KANG AVE 7', 'KEAT HONG CL',\n",
       "       'JURONG WEST CTRL 3', 'KEAT HONG LINK', 'ALJUNIED AVE 2',\n",
       "       'SUMANG LANE', 'CANBERRA CRES', 'CANBERRA ST', 'ANG MO KIO ST 44',\n",
       "       'WOODLANDS RISE', 'CANBERRA WALK', 'ANG MO KIO ST 51',\n",
       "       'BT BATOK EAST AVE 6', 'BT BATOK WEST AVE 9', 'TAMPINES ST 61',\n",
       "       'YISHUN ST 43'], dtype=object)"
      ]
     },
     "execution_count": 47,
     "metadata": {},
     "output_type": "execute_result"
    }
   ],
   "source": [
    "df[\"street_name\"].unique()"
   ]
  },
  {
   "cell_type": "code",
   "execution_count": 48,
   "metadata": {},
   "outputs": [
    {
     "data": {
      "text/plain": [
       "584"
      ]
     },
     "execution_count": 48,
     "metadata": {},
     "output_type": "execute_result"
    }
   ],
   "source": [
    "df[\"street_name\"].nunique()"
   ]
  },
  {
   "cell_type": "code",
   "execution_count": 49,
   "metadata": {},
   "outputs": [
    {
     "data": {
      "text/plain": [
       "210"
      ]
     },
     "execution_count": 49,
     "metadata": {},
     "output_type": "execute_result"
    }
   ],
   "source": [
    "df[\"floor_area_sqm\"].nunique()"
   ]
  },
  {
   "cell_type": "code",
   "execution_count": 50,
   "metadata": {},
   "outputs": [
    {
     "data": {
      "text/plain": [
       "array([ 69. ,  61. ,  73. ,  67. ,  68. ,  82. ,  74. ,  88. ,  89. ,\n",
       "        75. , 112. , 106. ,  97. ,  91. ,  99. ,  92. ,  98. ,  95. ,\n",
       "        93. , 100. , 127. , 119. , 118. , 121. , 135. , 136. , 134. ,\n",
       "       123. , 147. , 144. , 139. , 146. ,  45. ,  59. ,  60. ,  65. ,\n",
       "        66. ,  80. ,  90. ,  84. , 111. , 104. , 103. ,  83. , 101. ,\n",
       "       124. , 122. , 140. , 117. , 145. , 143. , 156. ,  64. , 105. ,\n",
       "       113. , 114. , 108. ,  85. , 130. , 131. , 132. , 149. , 169. ,\n",
       "        76. , 107. ,  96. ,  94. , 125. , 133. ,  29. ,  31. ,  47. ,\n",
       "        70. ,  53. ,  62. ,  56. ,  63. , 115. , 138. , 120. , 109. ,\n",
       "        86. , 151. , 128. , 142. , 154. , 110. , 126. , 129. , 137. ,\n",
       "       148. , 150. , 152. ,  81. ,  43. ,  41. ,  58. ,  57. ,  52. ,\n",
       "        79. , 159. ,  77. ,  71. , 163. , 141. ,  72. ,  87. , 102. ,\n",
       "        50. ,  48. , 155. , 158. , 153. ,  46. ,  39. ,  42. ,  40. ,\n",
       "        78. , 174. , 166. , 187. , 173. , 189. , 177. , 176. , 179. ,\n",
       "       192. , 161. , 181. , 165. , 164. , 116. ,  54. ,  60.3,  63.1,\n",
       "       160. , 170. , 162. , 172. , 171. ,  28. ,  49. ,  55. ,  51. ,\n",
       "       157. ,  89.1,  88.1,  38. , 182. , 186. , 168. , 184. ,  44. ,\n",
       "        83.1, 259. , 266. ,  64.7, 190. , 178. , 183. ,  87.1, 261. ,\n",
       "       195. , 215. , 199. , 221. ,  34. , 167. , 175. , 180. , 222. ,\n",
       "       210. , 297. , 237. , 241. , 188. ,  35. , 243. , 207. , 280. ,\n",
       "        64.9, 198. , 239. , 225. ,  59.1, 250. , 249. , 185. , 193. ,\n",
       "       206. ,  68.2,  59.2,  73.1,  48.1,  74.9,  37. ,  69.7, 246. ,\n",
       "        67.2,  64.8,  74.8,  69.9,  56.4,  75.9,  69.2, 152.4, 307. ,\n",
       "       131.1, 100.2,  68.8])"
      ]
     },
     "execution_count": 50,
     "metadata": {},
     "output_type": "execute_result"
    }
   ],
   "source": [
    "df[\"floor_area_sqm\"].unique()"
   ]
  },
  {
   "cell_type": "code",
   "execution_count": 51,
   "metadata": {},
   "outputs": [
    {
     "data": {
      "text/plain": [
       "array(['Improved', 'New Generation', 'Model A', 'Standard', 'Apartment',\n",
       "       'Simplified', 'Model A-Maisonette', 'Maisonette',\n",
       "       'Multi Generation', 'Adjoined flat', 'Premium Apartment',\n",
       "       'Terrace', 'Improved-Maisonette', 'Premium Maisonette', '2-room',\n",
       "       'Model A2', 'IMPROVED', 'NEW GENERATION', 'MODEL A', 'STANDARD',\n",
       "       'SIMPLIFIED', 'MODEL A-MAISONETTE', 'APARTMENT', 'MAISONETTE',\n",
       "       'TERRACE', '2-ROOM', 'IMPROVED-MAISONETTE', 'MULTI GENERATION',\n",
       "       'PREMIUM APARTMENT', 'Type S1', 'Type S2', 'DBSS',\n",
       "       'Premium Apartment Loft', '3Gen'], dtype=object)"
      ]
     },
     "execution_count": 51,
     "metadata": {},
     "output_type": "execute_result"
    }
   ],
   "source": [
    "df[\"flat_type\"].unique()"
   ]
  },
  {
   "cell_type": "code",
   "execution_count": 52,
   "metadata": {},
   "outputs": [],
   "source": [
    "# change & modify headings\n",
    "df['flat_type'] = df['flat_type'].replace({'New Generation':'NEW GENERATION','Model A':'MODEL A','Standard':'STANDARD','Apartment':'APARTMENT','Terrace':'TERRACE','Improved':'IMPROVED','Model A-Maisonette':'MODEL A-MAISONETTE','Improved-Maisonette':'IMPROVED-MAISONETTE'})"
   ]
  },
  {
   "cell_type": "markdown",
   "metadata": {},
   "source": [
    "#50"
   ]
  },
  {
   "cell_type": "code",
   "execution_count": 53,
   "metadata": {},
   "outputs": [],
   "source": [
    "df[\"flat_type\"] = df[\"flat_type\"].replace({'Multi Generation':'MULTI GENERATION','Maisonette':'MAISONETTE'})"
   ]
  },
  {
   "cell_type": "code",
   "execution_count": 54,
   "metadata": {},
   "outputs": [],
   "source": [
    "df[\"flat_type\"] = df[\"flat_type\"].replace({'Premium Apartment':'PREMIUM APARTMENT','2-room':'2-ROOM',})"
   ]
  },
  {
   "cell_type": "code",
   "execution_count": 55,
   "metadata": {},
   "outputs": [
    {
     "data": {
      "text/plain": [
       "array(['IMPROVED', 'NEW GENERATION', 'MODEL A', 'STANDARD', 'APARTMENT',\n",
       "       'Simplified', 'MODEL A-MAISONETTE', 'MAISONETTE',\n",
       "       'MULTI GENERATION', 'Adjoined flat', 'PREMIUM APARTMENT',\n",
       "       'TERRACE', 'IMPROVED-MAISONETTE', 'Premium Maisonette', '2-ROOM',\n",
       "       'Model A2', 'SIMPLIFIED', 'Type S1', 'Type S2', 'DBSS',\n",
       "       'Premium Apartment Loft', '3Gen'], dtype=object)"
      ]
     },
     "execution_count": 55,
     "metadata": {},
     "output_type": "execute_result"
    }
   ],
   "source": [
    "df[\"flat_type\"].unique()"
   ]
  },
  {
   "cell_type": "code",
   "execution_count": 56,
   "metadata": {},
   "outputs": [],
   "source": [
    "df.rename(columns = {'lease_commence_date':'lease_commence_year',\"flat_model\": 'flat_type'},inplace = True)"
   ]
  },
  {
   "cell_type": "code",
   "execution_count": 57,
   "metadata": {},
   "outputs": [
    {
     "data": {
      "text/html": [
       "<div>\n",
       "<style scoped>\n",
       "    .dataframe tbody tr th:only-of-type {\n",
       "        vertical-align: middle;\n",
       "    }\n",
       "\n",
       "    .dataframe tbody tr th {\n",
       "        vertical-align: top;\n",
       "    }\n",
       "\n",
       "    .dataframe thead th {\n",
       "        text-align: right;\n",
       "    }\n",
       "</style>\n",
       "<table border=\"1\" class=\"dataframe\">\n",
       "  <thead>\n",
       "    <tr style=\"text-align: right;\">\n",
       "      <th></th>\n",
       "      <th>month</th>\n",
       "      <th>town</th>\n",
       "      <th>no_of_rooms</th>\n",
       "      <th>block</th>\n",
       "      <th>street_name</th>\n",
       "      <th>no_of_floors</th>\n",
       "      <th>floor_area_sqm</th>\n",
       "      <th>flat_type</th>\n",
       "      <th>lease_commence_year</th>\n",
       "      <th>resale_price</th>\n",
       "      <th>year</th>\n",
       "    </tr>\n",
       "  </thead>\n",
       "  <tbody>\n",
       "    <tr>\n",
       "      <th>0</th>\n",
       "      <td>1</td>\n",
       "      <td>ANG MO KIO</td>\n",
       "      <td>3</td>\n",
       "      <td>170</td>\n",
       "      <td>ANG MO KIO AVE 4</td>\n",
       "      <td>07 TO 09</td>\n",
       "      <td>69.0</td>\n",
       "      <td>IMPROVED</td>\n",
       "      <td>1986</td>\n",
       "      <td>147000.0</td>\n",
       "      <td>2000</td>\n",
       "    </tr>\n",
       "    <tr>\n",
       "      <th>1</th>\n",
       "      <td>1</td>\n",
       "      <td>ANG MO KIO</td>\n",
       "      <td>3</td>\n",
       "      <td>174</td>\n",
       "      <td>ANG MO KIO AVE 4</td>\n",
       "      <td>04 TO 06</td>\n",
       "      <td>61.0</td>\n",
       "      <td>IMPROVED</td>\n",
       "      <td>1986</td>\n",
       "      <td>144000.0</td>\n",
       "      <td>2000</td>\n",
       "    </tr>\n",
       "    <tr>\n",
       "      <th>2</th>\n",
       "      <td>1</td>\n",
       "      <td>ANG MO KIO</td>\n",
       "      <td>3</td>\n",
       "      <td>216</td>\n",
       "      <td>ANG MO KIO AVE 1</td>\n",
       "      <td>07 TO 09</td>\n",
       "      <td>73.0</td>\n",
       "      <td>NEW GENERATION</td>\n",
       "      <td>1976</td>\n",
       "      <td>159000.0</td>\n",
       "      <td>2000</td>\n",
       "    </tr>\n",
       "    <tr>\n",
       "      <th>3</th>\n",
       "      <td>1</td>\n",
       "      <td>ANG MO KIO</td>\n",
       "      <td>3</td>\n",
       "      <td>215</td>\n",
       "      <td>ANG MO KIO AVE 1</td>\n",
       "      <td>07 TO 09</td>\n",
       "      <td>73.0</td>\n",
       "      <td>NEW GENERATION</td>\n",
       "      <td>1976</td>\n",
       "      <td>167000.0</td>\n",
       "      <td>2000</td>\n",
       "    </tr>\n",
       "    <tr>\n",
       "      <th>4</th>\n",
       "      <td>1</td>\n",
       "      <td>ANG MO KIO</td>\n",
       "      <td>3</td>\n",
       "      <td>218</td>\n",
       "      <td>ANG MO KIO AVE 1</td>\n",
       "      <td>07 TO 09</td>\n",
       "      <td>67.0</td>\n",
       "      <td>NEW GENERATION</td>\n",
       "      <td>1976</td>\n",
       "      <td>163000.0</td>\n",
       "      <td>2000</td>\n",
       "    </tr>\n",
       "  </tbody>\n",
       "</table>\n",
       "</div>"
      ],
      "text/plain": [
       "   month        town no_of_rooms block       street_name no_of_floors  \\\n",
       "0      1  ANG MO KIO          3    170  ANG MO KIO AVE 4     07 TO 09   \n",
       "1      1  ANG MO KIO          3    174  ANG MO KIO AVE 4     04 TO 06   \n",
       "2      1  ANG MO KIO          3    216  ANG MO KIO AVE 1     07 TO 09   \n",
       "3      1  ANG MO KIO          3    215  ANG MO KIO AVE 1     07 TO 09   \n",
       "4      1  ANG MO KIO          3    218  ANG MO KIO AVE 1     07 TO 09   \n",
       "\n",
       "   floor_area_sqm       flat_type  lease_commence_year  resale_price  year  \n",
       "0            69.0        IMPROVED                 1986      147000.0  2000  \n",
       "1            61.0        IMPROVED                 1986      144000.0  2000  \n",
       "2            73.0  NEW GENERATION                 1976      159000.0  2000  \n",
       "3            73.0  NEW GENERATION                 1976      167000.0  2000  \n",
       "4            67.0  NEW GENERATION                 1976      163000.0  2000  "
      ]
     },
     "execution_count": 57,
     "metadata": {},
     "output_type": "execute_result"
    }
   ],
   "source": [
    "df.head()"
   ]
  },
  {
   "cell_type": "code",
   "execution_count": 58,
   "metadata": {},
   "outputs": [
    {
     "data": {
      "text/html": [
       "<div>\n",
       "<style scoped>\n",
       "    .dataframe tbody tr th:only-of-type {\n",
       "        vertical-align: middle;\n",
       "    }\n",
       "\n",
       "    .dataframe tbody tr th {\n",
       "        vertical-align: top;\n",
       "    }\n",
       "\n",
       "    .dataframe thead th {\n",
       "        text-align: right;\n",
       "    }\n",
       "</style>\n",
       "<table border=\"1\" class=\"dataframe\">\n",
       "  <thead>\n",
       "    <tr style=\"text-align: right;\">\n",
       "      <th></th>\n",
       "      <th>month</th>\n",
       "      <th>town</th>\n",
       "      <th>no_of_rooms</th>\n",
       "      <th>block</th>\n",
       "      <th>street_name</th>\n",
       "      <th>no_of_floors</th>\n",
       "      <th>floor_area_sqm</th>\n",
       "      <th>flat_type</th>\n",
       "      <th>lease_commence_year</th>\n",
       "      <th>resale_price</th>\n",
       "      <th>year</th>\n",
       "    </tr>\n",
       "  </thead>\n",
       "  <tbody>\n",
       "  </tbody>\n",
       "</table>\n",
       "</div>"
      ],
      "text/plain": [
       "Empty DataFrame\n",
       "Columns: [month, town, no_of_rooms, block, street_name, no_of_floors, floor_area_sqm, flat_type, lease_commence_year, resale_price, year]\n",
       "Index: []"
      ]
     },
     "execution_count": 58,
     "metadata": {},
     "output_type": "execute_result"
    }
   ],
   "source": [
    "df[df[\"flat_type\"] == 'Apartment']"
   ]
  },
  {
   "cell_type": "code",
   "execution_count": 59,
   "metadata": {},
   "outputs": [
    {
     "data": {
      "text/plain": [
       "array(['3 ', '4 ', '5 ', 6, '2 ', 'ULTI-GENERATION', '1 ',\n",
       "       'ULTI GENERATION'], dtype=object)"
      ]
     },
     "execution_count": 59,
     "metadata": {},
     "output_type": "execute_result"
    }
   ],
   "source": [
    "df[\"no_of_rooms\"].unique()"
   ]
  },
  {
   "cell_type": "code",
   "execution_count": 60,
   "metadata": {},
   "outputs": [],
   "source": [
    "df[\"no_of_rooms\"] = df[\"no_of_rooms\"].replace({'ULTI GENERATION':'ULTI-GENERATION'})"
   ]
  },
  {
   "cell_type": "code",
   "execution_count": 61,
   "metadata": {},
   "outputs": [
    {
     "data": {
      "text/plain": [
       "array(['3 ', '4 ', '5 ', 6, '2 ', 'ULTI-GENERATION', '1 '], dtype=object)"
      ]
     },
     "execution_count": 61,
     "metadata": {},
     "output_type": "execute_result"
    }
   ],
   "source": [
    "df[\"no_of_rooms\"].unique()"
   ]
  },
  {
   "cell_type": "code",
   "execution_count": 62,
   "metadata": {},
   "outputs": [],
   "source": [
    "df[\"no_of_rooms\"] = df[\"no_of_rooms\"].replace({'ULTI-GENERATION':'MULTI-GENERATION'})"
   ]
  },
  {
   "cell_type": "markdown",
   "metadata": {},
   "source": [
    "#60"
   ]
  },
  {
   "cell_type": "code",
   "execution_count": 63,
   "metadata": {},
   "outputs": [
    {
     "data": {
      "text/plain": [
       "array(['3 ', '4 ', '5 ', 6, '2 ', 'MULTI-GENERATION', '1 '], dtype=object)"
      ]
     },
     "execution_count": 63,
     "metadata": {},
     "output_type": "execute_result"
    }
   ],
   "source": [
    "df[\"no_of_rooms\"].unique()"
   ]
  },
  {
   "cell_type": "code",
   "execution_count": 64,
   "metadata": {},
   "outputs": [],
   "source": [
    "# df[\"no_of_rooms\"] = df[\"no_of_rooms\"].map({'MULTI-GENERATION':7})\n",
    "df[\"no_of_rooms\"] = df[\"no_of_rooms\"].replace({'MULTI-GENERATION': 7})"
   ]
  },
  {
   "cell_type": "code",
   "execution_count": 65,
   "metadata": {},
   "outputs": [
    {
     "data": {
      "text/plain": [
       "array(['3 ', '4 ', '5 ', 6, '2 ', 7, '1 '], dtype=object)"
      ]
     },
     "execution_count": 65,
     "metadata": {},
     "output_type": "execute_result"
    }
   ],
   "source": [
    "df[\"no_of_rooms\"].unique()"
   ]
  },
  {
   "cell_type": "code",
   "execution_count": 66,
   "metadata": {},
   "outputs": [
    {
     "data": {
      "text/html": [
       "<div>\n",
       "<style scoped>\n",
       "    .dataframe tbody tr th:only-of-type {\n",
       "        vertical-align: middle;\n",
       "    }\n",
       "\n",
       "    .dataframe tbody tr th {\n",
       "        vertical-align: top;\n",
       "    }\n",
       "\n",
       "    .dataframe thead th {\n",
       "        text-align: right;\n",
       "    }\n",
       "</style>\n",
       "<table border=\"1\" class=\"dataframe\">\n",
       "  <thead>\n",
       "    <tr style=\"text-align: right;\">\n",
       "      <th></th>\n",
       "      <th>month</th>\n",
       "      <th>town</th>\n",
       "      <th>no_of_rooms</th>\n",
       "      <th>block</th>\n",
       "      <th>street_name</th>\n",
       "      <th>no_of_floors</th>\n",
       "      <th>floor_area_sqm</th>\n",
       "      <th>flat_type</th>\n",
       "      <th>lease_commence_year</th>\n",
       "      <th>resale_price</th>\n",
       "      <th>year</th>\n",
       "    </tr>\n",
       "  </thead>\n",
       "  <tbody>\n",
       "    <tr>\n",
       "      <th>52198</th>\n",
       "      <td>12</td>\n",
       "      <td>YISHUN</td>\n",
       "      <td>5</td>\n",
       "      <td>816</td>\n",
       "      <td>YISHUN ST 81</td>\n",
       "      <td>10 TO 12</td>\n",
       "      <td>122.0</td>\n",
       "      <td>IMPROVED</td>\n",
       "      <td>1988</td>\n",
       "      <td>580000.0</td>\n",
       "      <td>2014</td>\n",
       "    </tr>\n",
       "    <tr>\n",
       "      <th>52199</th>\n",
       "      <td>12</td>\n",
       "      <td>YISHUN</td>\n",
       "      <td>6</td>\n",
       "      <td>325</td>\n",
       "      <td>YISHUN CTRL</td>\n",
       "      <td>10 TO 12</td>\n",
       "      <td>146.0</td>\n",
       "      <td>MAISONETTE</td>\n",
       "      <td>1988</td>\n",
       "      <td>540000.0</td>\n",
       "      <td>2014</td>\n",
       "    </tr>\n",
       "    <tr>\n",
       "      <th>52200</th>\n",
       "      <td>12</td>\n",
       "      <td>YISHUN</td>\n",
       "      <td>6</td>\n",
       "      <td>618</td>\n",
       "      <td>YISHUN RING RD</td>\n",
       "      <td>07 TO 09</td>\n",
       "      <td>164.0</td>\n",
       "      <td>APARTMENT</td>\n",
       "      <td>1992</td>\n",
       "      <td>738000.0</td>\n",
       "      <td>2014</td>\n",
       "    </tr>\n",
       "    <tr>\n",
       "      <th>52201</th>\n",
       "      <td>12</td>\n",
       "      <td>YISHUN</td>\n",
       "      <td>6</td>\n",
       "      <td>277</td>\n",
       "      <td>YISHUN ST 22</td>\n",
       "      <td>07 TO 09</td>\n",
       "      <td>152.0</td>\n",
       "      <td>MAISONETTE</td>\n",
       "      <td>1985</td>\n",
       "      <td>592000.0</td>\n",
       "      <td>2014</td>\n",
       "    </tr>\n",
       "    <tr>\n",
       "      <th>52202</th>\n",
       "      <td>12</td>\n",
       "      <td>YISHUN</td>\n",
       "      <td>6</td>\n",
       "      <td>277</td>\n",
       "      <td>YISHUN ST 22</td>\n",
       "      <td>04 TO 06</td>\n",
       "      <td>146.0</td>\n",
       "      <td>MAISONETTE</td>\n",
       "      <td>1985</td>\n",
       "      <td>545000.0</td>\n",
       "      <td>2014</td>\n",
       "    </tr>\n",
       "  </tbody>\n",
       "</table>\n",
       "</div>"
      ],
      "text/plain": [
       "       month    town no_of_rooms block     street_name no_of_floors  \\\n",
       "52198     12  YISHUN          5    816    YISHUN ST 81     10 TO 12   \n",
       "52199     12  YISHUN           6   325     YISHUN CTRL     10 TO 12   \n",
       "52200     12  YISHUN           6   618  YISHUN RING RD     07 TO 09   \n",
       "52201     12  YISHUN           6   277    YISHUN ST 22     07 TO 09   \n",
       "52202     12  YISHUN           6   277    YISHUN ST 22     04 TO 06   \n",
       "\n",
       "       floor_area_sqm   flat_type  lease_commence_year  resale_price  year  \n",
       "52198           122.0    IMPROVED                 1988      580000.0  2014  \n",
       "52199           146.0  MAISONETTE                 1988      540000.0  2014  \n",
       "52200           164.0   APARTMENT                 1992      738000.0  2014  \n",
       "52201           152.0  MAISONETTE                 1985      592000.0  2014  \n",
       "52202           146.0  MAISONETTE                 1985      545000.0  2014  "
      ]
     },
     "execution_count": 66,
     "metadata": {},
     "output_type": "execute_result"
    }
   ],
   "source": [
    "df.tail()"
   ]
  },
  {
   "cell_type": "code",
   "execution_count": 67,
   "metadata": {},
   "outputs": [
    {
     "data": {
      "text/html": [
       "<div>\n",
       "<style scoped>\n",
       "    .dataframe tbody tr th:only-of-type {\n",
       "        vertical-align: middle;\n",
       "    }\n",
       "\n",
       "    .dataframe tbody tr th {\n",
       "        vertical-align: top;\n",
       "    }\n",
       "\n",
       "    .dataframe thead th {\n",
       "        text-align: right;\n",
       "    }\n",
       "</style>\n",
       "<table border=\"1\" class=\"dataframe\">\n",
       "  <thead>\n",
       "    <tr style=\"text-align: right;\">\n",
       "      <th></th>\n",
       "      <th>month</th>\n",
       "      <th>town</th>\n",
       "      <th>no_of_rooms</th>\n",
       "      <th>block</th>\n",
       "      <th>street_name</th>\n",
       "      <th>no_of_floors</th>\n",
       "      <th>floor_area_sqm</th>\n",
       "      <th>flat_type</th>\n",
       "      <th>lease_commence_year</th>\n",
       "      <th>resale_price</th>\n",
       "      <th>year</th>\n",
       "    </tr>\n",
       "  </thead>\n",
       "  <tbody>\n",
       "    <tr>\n",
       "      <th>0</th>\n",
       "      <td>1</td>\n",
       "      <td>ANG MO KIO</td>\n",
       "      <td>3</td>\n",
       "      <td>170</td>\n",
       "      <td>ANG MO KIO AVE 4</td>\n",
       "      <td>07 TO 09</td>\n",
       "      <td>69.0</td>\n",
       "      <td>IMPROVED</td>\n",
       "      <td>1986</td>\n",
       "      <td>147000.0</td>\n",
       "      <td>2000</td>\n",
       "    </tr>\n",
       "    <tr>\n",
       "      <th>1</th>\n",
       "      <td>1</td>\n",
       "      <td>ANG MO KIO</td>\n",
       "      <td>3</td>\n",
       "      <td>174</td>\n",
       "      <td>ANG MO KIO AVE 4</td>\n",
       "      <td>04 TO 06</td>\n",
       "      <td>61.0</td>\n",
       "      <td>IMPROVED</td>\n",
       "      <td>1986</td>\n",
       "      <td>144000.0</td>\n",
       "      <td>2000</td>\n",
       "    </tr>\n",
       "    <tr>\n",
       "      <th>2</th>\n",
       "      <td>1</td>\n",
       "      <td>ANG MO KIO</td>\n",
       "      <td>3</td>\n",
       "      <td>216</td>\n",
       "      <td>ANG MO KIO AVE 1</td>\n",
       "      <td>07 TO 09</td>\n",
       "      <td>73.0</td>\n",
       "      <td>NEW GENERATION</td>\n",
       "      <td>1976</td>\n",
       "      <td>159000.0</td>\n",
       "      <td>2000</td>\n",
       "    </tr>\n",
       "    <tr>\n",
       "      <th>3</th>\n",
       "      <td>1</td>\n",
       "      <td>ANG MO KIO</td>\n",
       "      <td>3</td>\n",
       "      <td>215</td>\n",
       "      <td>ANG MO KIO AVE 1</td>\n",
       "      <td>07 TO 09</td>\n",
       "      <td>73.0</td>\n",
       "      <td>NEW GENERATION</td>\n",
       "      <td>1976</td>\n",
       "      <td>167000.0</td>\n",
       "      <td>2000</td>\n",
       "    </tr>\n",
       "    <tr>\n",
       "      <th>4</th>\n",
       "      <td>1</td>\n",
       "      <td>ANG MO KIO</td>\n",
       "      <td>3</td>\n",
       "      <td>218</td>\n",
       "      <td>ANG MO KIO AVE 1</td>\n",
       "      <td>07 TO 09</td>\n",
       "      <td>67.0</td>\n",
       "      <td>NEW GENERATION</td>\n",
       "      <td>1976</td>\n",
       "      <td>163000.0</td>\n",
       "      <td>2000</td>\n",
       "    </tr>\n",
       "    <tr>\n",
       "      <th>...</th>\n",
       "      <td>...</td>\n",
       "      <td>...</td>\n",
       "      <td>...</td>\n",
       "      <td>...</td>\n",
       "      <td>...</td>\n",
       "      <td>...</td>\n",
       "      <td>...</td>\n",
       "      <td>...</td>\n",
       "      <td>...</td>\n",
       "      <td>...</td>\n",
       "      <td>...</td>\n",
       "    </tr>\n",
       "    <tr>\n",
       "      <th>52198</th>\n",
       "      <td>12</td>\n",
       "      <td>YISHUN</td>\n",
       "      <td>5</td>\n",
       "      <td>816</td>\n",
       "      <td>YISHUN ST 81</td>\n",
       "      <td>10 TO 12</td>\n",
       "      <td>122.0</td>\n",
       "      <td>IMPROVED</td>\n",
       "      <td>1988</td>\n",
       "      <td>580000.0</td>\n",
       "      <td>2014</td>\n",
       "    </tr>\n",
       "    <tr>\n",
       "      <th>52199</th>\n",
       "      <td>12</td>\n",
       "      <td>YISHUN</td>\n",
       "      <td>6</td>\n",
       "      <td>325</td>\n",
       "      <td>YISHUN CTRL</td>\n",
       "      <td>10 TO 12</td>\n",
       "      <td>146.0</td>\n",
       "      <td>MAISONETTE</td>\n",
       "      <td>1988</td>\n",
       "      <td>540000.0</td>\n",
       "      <td>2014</td>\n",
       "    </tr>\n",
       "    <tr>\n",
       "      <th>52200</th>\n",
       "      <td>12</td>\n",
       "      <td>YISHUN</td>\n",
       "      <td>6</td>\n",
       "      <td>618</td>\n",
       "      <td>YISHUN RING RD</td>\n",
       "      <td>07 TO 09</td>\n",
       "      <td>164.0</td>\n",
       "      <td>APARTMENT</td>\n",
       "      <td>1992</td>\n",
       "      <td>738000.0</td>\n",
       "      <td>2014</td>\n",
       "    </tr>\n",
       "    <tr>\n",
       "      <th>52201</th>\n",
       "      <td>12</td>\n",
       "      <td>YISHUN</td>\n",
       "      <td>6</td>\n",
       "      <td>277</td>\n",
       "      <td>YISHUN ST 22</td>\n",
       "      <td>07 TO 09</td>\n",
       "      <td>152.0</td>\n",
       "      <td>MAISONETTE</td>\n",
       "      <td>1985</td>\n",
       "      <td>592000.0</td>\n",
       "      <td>2014</td>\n",
       "    </tr>\n",
       "    <tr>\n",
       "      <th>52202</th>\n",
       "      <td>12</td>\n",
       "      <td>YISHUN</td>\n",
       "      <td>6</td>\n",
       "      <td>277</td>\n",
       "      <td>YISHUN ST 22</td>\n",
       "      <td>04 TO 06</td>\n",
       "      <td>146.0</td>\n",
       "      <td>MAISONETTE</td>\n",
       "      <td>1985</td>\n",
       "      <td>545000.0</td>\n",
       "      <td>2014</td>\n",
       "    </tr>\n",
       "  </tbody>\n",
       "</table>\n",
       "<p>916123 rows × 11 columns</p>\n",
       "</div>"
      ],
      "text/plain": [
       "       month        town no_of_rooms block       street_name no_of_floors  \\\n",
       "0          1  ANG MO KIO          3    170  ANG MO KIO AVE 4     07 TO 09   \n",
       "1          1  ANG MO KIO          3    174  ANG MO KIO AVE 4     04 TO 06   \n",
       "2          1  ANG MO KIO          3    216  ANG MO KIO AVE 1     07 TO 09   \n",
       "3          1  ANG MO KIO          3    215  ANG MO KIO AVE 1     07 TO 09   \n",
       "4          1  ANG MO KIO          3    218  ANG MO KIO AVE 1     07 TO 09   \n",
       "...      ...         ...         ...   ...               ...          ...   \n",
       "52198     12      YISHUN          5    816      YISHUN ST 81     10 TO 12   \n",
       "52199     12      YISHUN           6   325       YISHUN CTRL     10 TO 12   \n",
       "52200     12      YISHUN           6   618    YISHUN RING RD     07 TO 09   \n",
       "52201     12      YISHUN           6   277      YISHUN ST 22     07 TO 09   \n",
       "52202     12      YISHUN           6   277      YISHUN ST 22     04 TO 06   \n",
       "\n",
       "       floor_area_sqm       flat_type  lease_commence_year  resale_price  year  \n",
       "0                69.0        IMPROVED                 1986      147000.0  2000  \n",
       "1                61.0        IMPROVED                 1986      144000.0  2000  \n",
       "2                73.0  NEW GENERATION                 1976      159000.0  2000  \n",
       "3                73.0  NEW GENERATION                 1976      167000.0  2000  \n",
       "4                67.0  NEW GENERATION                 1976      163000.0  2000  \n",
       "...               ...             ...                  ...           ...   ...  \n",
       "52198           122.0        IMPROVED                 1988      580000.0  2014  \n",
       "52199           146.0      MAISONETTE                 1988      540000.0  2014  \n",
       "52200           164.0       APARTMENT                 1992      738000.0  2014  \n",
       "52201           152.0      MAISONETTE                 1985      592000.0  2014  \n",
       "52202           146.0      MAISONETTE                 1985      545000.0  2014  \n",
       "\n",
       "[916123 rows x 11 columns]"
      ]
     },
     "execution_count": 67,
     "metadata": {},
     "output_type": "execute_result"
    }
   ],
   "source": [
    "df.drop_duplicates()"
   ]
  },
  {
   "cell_type": "code",
   "execution_count": 68,
   "metadata": {},
   "outputs": [
    {
     "data": {
      "text/plain": [
       "month                  0\n",
       "town                   0\n",
       "no_of_rooms            0\n",
       "block                  0\n",
       "street_name            0\n",
       "no_of_floors           0\n",
       "floor_area_sqm         0\n",
       "flat_type              0\n",
       "lease_commence_year    0\n",
       "resale_price           0\n",
       "year                   0\n",
       "dtype: int64"
      ]
     },
     "execution_count": 68,
     "metadata": {},
     "output_type": "execute_result"
    }
   ],
   "source": [
    "df.isna().sum()"
   ]
  },
  {
   "cell_type": "code",
   "execution_count": 69,
   "metadata": {},
   "outputs": [
    {
     "name": "stdout",
     "output_type": "stream",
     "text": [
      "<class 'pandas.core.frame.DataFrame'>\n",
      "Index: 918086 entries, 0 to 52202\n",
      "Data columns (total 11 columns):\n",
      " #   Column               Non-Null Count   Dtype  \n",
      "---  ------               --------------   -----  \n",
      " 0   month                918086 non-null  int32  \n",
      " 1   town                 918086 non-null  object \n",
      " 2   no_of_rooms          918086 non-null  object \n",
      " 3   block                918086 non-null  object \n",
      " 4   street_name          918086 non-null  object \n",
      " 5   no_of_floors         918086 non-null  object \n",
      " 6   floor_area_sqm       918086 non-null  float64\n",
      " 7   flat_type            918086 non-null  object \n",
      " 8   lease_commence_year  918086 non-null  int64  \n",
      " 9   resale_price         918086 non-null  float64\n",
      " 10  year                 918086 non-null  int32  \n",
      "dtypes: float64(2), int32(2), int64(1), object(6)\n",
      "memory usage: 77.0+ MB\n"
     ]
    }
   ],
   "source": [
    "df.info()"
   ]
  },
  {
   "cell_type": "code",
   "execution_count": 70,
   "metadata": {},
   "outputs": [],
   "source": [
    "# reassign of my df\n",
    "df= df[['month', 'year', 'town', 'no_of_rooms', 'block', 'street_name', 'no_of_floors', 'floor_area_sqm', 'flat_type', 'lease_commence_year','resale_price']]"
   ]
  },
  {
   "cell_type": "code",
   "execution_count": 71,
   "metadata": {},
   "outputs": [
    {
     "data": {
      "text/html": [
       "<div>\n",
       "<style scoped>\n",
       "    .dataframe tbody tr th:only-of-type {\n",
       "        vertical-align: middle;\n",
       "    }\n",
       "\n",
       "    .dataframe tbody tr th {\n",
       "        vertical-align: top;\n",
       "    }\n",
       "\n",
       "    .dataframe thead th {\n",
       "        text-align: right;\n",
       "    }\n",
       "</style>\n",
       "<table border=\"1\" class=\"dataframe\">\n",
       "  <thead>\n",
       "    <tr style=\"text-align: right;\">\n",
       "      <th></th>\n",
       "      <th>month</th>\n",
       "      <th>year</th>\n",
       "      <th>town</th>\n",
       "      <th>no_of_rooms</th>\n",
       "      <th>block</th>\n",
       "      <th>street_name</th>\n",
       "      <th>no_of_floors</th>\n",
       "      <th>floor_area_sqm</th>\n",
       "      <th>flat_type</th>\n",
       "      <th>lease_commence_year</th>\n",
       "      <th>resale_price</th>\n",
       "    </tr>\n",
       "  </thead>\n",
       "  <tbody>\n",
       "    <tr>\n",
       "      <th>0</th>\n",
       "      <td>1</td>\n",
       "      <td>2000</td>\n",
       "      <td>ANG MO KIO</td>\n",
       "      <td>3</td>\n",
       "      <td>170</td>\n",
       "      <td>ANG MO KIO AVE 4</td>\n",
       "      <td>07 TO 09</td>\n",
       "      <td>69.0</td>\n",
       "      <td>IMPROVED</td>\n",
       "      <td>1986</td>\n",
       "      <td>147000.0</td>\n",
       "    </tr>\n",
       "    <tr>\n",
       "      <th>1</th>\n",
       "      <td>1</td>\n",
       "      <td>2000</td>\n",
       "      <td>ANG MO KIO</td>\n",
       "      <td>3</td>\n",
       "      <td>174</td>\n",
       "      <td>ANG MO KIO AVE 4</td>\n",
       "      <td>04 TO 06</td>\n",
       "      <td>61.0</td>\n",
       "      <td>IMPROVED</td>\n",
       "      <td>1986</td>\n",
       "      <td>144000.0</td>\n",
       "    </tr>\n",
       "  </tbody>\n",
       "</table>\n",
       "</div>"
      ],
      "text/plain": [
       "   month  year        town no_of_rooms block       street_name no_of_floors  \\\n",
       "0      1  2000  ANG MO KIO          3    170  ANG MO KIO AVE 4     07 TO 09   \n",
       "1      1  2000  ANG MO KIO          3    174  ANG MO KIO AVE 4     04 TO 06   \n",
       "\n",
       "   floor_area_sqm flat_type  lease_commence_year  resale_price  \n",
       "0            69.0  IMPROVED                 1986      147000.0  \n",
       "1            61.0  IMPROVED                 1986      144000.0  "
      ]
     },
     "execution_count": 71,
     "metadata": {},
     "output_type": "execute_result"
    }
   ],
   "source": [
    "df.head(2)"
   ]
  },
  {
   "cell_type": "code",
   "execution_count": 72,
   "metadata": {},
   "outputs": [
    {
     "data": {
      "text/plain": [
       "0        07 TO 09\n",
       "1        04 TO 06\n",
       "2        07 TO 09\n",
       "3        07 TO 09\n",
       "4        07 TO 09\n",
       "           ...   \n",
       "52198    10 TO 12\n",
       "52199    10 TO 12\n",
       "52200    07 TO 09\n",
       "52201    07 TO 09\n",
       "52202    04 TO 06\n",
       "Name: no_of_floors, Length: 918086, dtype: object"
      ]
     },
     "execution_count": 72,
     "metadata": {},
     "output_type": "execute_result"
    }
   ],
   "source": [
    "df[\"no_of_floors\"]"
   ]
  },
  {
   "cell_type": "markdown",
   "metadata": {},
   "source": [
    "#70"
   ]
  },
  {
   "cell_type": "code",
   "execution_count": 73,
   "metadata": {},
   "outputs": [
    {
     "data": {
      "text/html": [
       "<div>\n",
       "<style scoped>\n",
       "    .dataframe tbody tr th:only-of-type {\n",
       "        vertical-align: middle;\n",
       "    }\n",
       "\n",
       "    .dataframe tbody tr th {\n",
       "        vertical-align: top;\n",
       "    }\n",
       "\n",
       "    .dataframe thead th {\n",
       "        text-align: right;\n",
       "    }\n",
       "</style>\n",
       "<table border=\"1\" class=\"dataframe\">\n",
       "  <thead>\n",
       "    <tr style=\"text-align: right;\">\n",
       "      <th></th>\n",
       "      <th>month</th>\n",
       "      <th>year</th>\n",
       "      <th>town</th>\n",
       "      <th>no_of_rooms</th>\n",
       "      <th>block</th>\n",
       "      <th>street_name</th>\n",
       "      <th>no_of_floors</th>\n",
       "      <th>floor_area_sqm</th>\n",
       "      <th>flat_type</th>\n",
       "      <th>lease_commence_year</th>\n",
       "      <th>resale_price</th>\n",
       "    </tr>\n",
       "  </thead>\n",
       "  <tbody>\n",
       "    <tr>\n",
       "      <th>0</th>\n",
       "      <td>1</td>\n",
       "      <td>2000</td>\n",
       "      <td>ANG MO KIO</td>\n",
       "      <td>3</td>\n",
       "      <td>170</td>\n",
       "      <td>ANG MO KIO AVE 4</td>\n",
       "      <td>07 TO 09</td>\n",
       "      <td>69.0</td>\n",
       "      <td>IMPROVED</td>\n",
       "      <td>1986</td>\n",
       "      <td>147000.0</td>\n",
       "    </tr>\n",
       "    <tr>\n",
       "      <th>1</th>\n",
       "      <td>1</td>\n",
       "      <td>2000</td>\n",
       "      <td>ANG MO KIO</td>\n",
       "      <td>3</td>\n",
       "      <td>174</td>\n",
       "      <td>ANG MO KIO AVE 4</td>\n",
       "      <td>04 TO 06</td>\n",
       "      <td>61.0</td>\n",
       "      <td>IMPROVED</td>\n",
       "      <td>1986</td>\n",
       "      <td>144000.0</td>\n",
       "    </tr>\n",
       "  </tbody>\n",
       "</table>\n",
       "</div>"
      ],
      "text/plain": [
       "   month  year        town no_of_rooms block       street_name no_of_floors  \\\n",
       "0      1  2000  ANG MO KIO          3    170  ANG MO KIO AVE 4     07 TO 09   \n",
       "1      1  2000  ANG MO KIO          3    174  ANG MO KIO AVE 4     04 TO 06   \n",
       "\n",
       "   floor_area_sqm flat_type  lease_commence_year  resale_price  \n",
       "0            69.0  IMPROVED                 1986      147000.0  \n",
       "1            61.0  IMPROVED                 1986      144000.0  "
      ]
     },
     "execution_count": 73,
     "metadata": {},
     "output_type": "execute_result"
    }
   ],
   "source": [
    "df.head(2)"
   ]
  },
  {
   "cell_type": "code",
   "execution_count": 74,
   "metadata": {},
   "outputs": [
    {
     "data": {
      "text/plain": [
       "array([2000, 2001, 2002, 2003, 2004, 2005, 2006, 2007, 2008, 2009, 2010,\n",
       "       2011, 2012, 1990, 1991, 1992, 1993, 1994, 1995, 1996, 1997, 1998,\n",
       "       1999, 2015, 2016, 2017, 2018, 2019, 2020, 2021, 2022, 2023, 2024,\n",
       "       2013, 2014])"
      ]
     },
     "execution_count": 74,
     "metadata": {},
     "output_type": "execute_result"
    }
   ],
   "source": [
    "df[\"year\"].unique()"
   ]
  },
  {
   "cell_type": "code",
   "execution_count": 75,
   "metadata": {},
   "outputs": [
    {
     "data": {
      "text/plain": [
       "array([1986, 1976, 1977, 1981, 1979, 1984, 1980, 1978, 1985, 1993, 1982,\n",
       "       1996, 1994, 1974, 1983, 1987, 1989, 1995, 1973, 1992, 1990, 1988,\n",
       "       1969, 1975, 1967, 1971, 1970, 1972, 1968, 1991, 1997, 1998, 1999,\n",
       "       2000, 2001, 1966, 2002, 2006, 2003, 2005, 2004, 2008, 2007, 2009,\n",
       "       2010, 2012, 2011, 2013, 2014, 2015, 2016, 2017, 2018, 2019, 2022,\n",
       "       2020], dtype=int64)"
      ]
     },
     "execution_count": 75,
     "metadata": {},
     "output_type": "execute_result"
    }
   ],
   "source": [
    "df[\"lease_commence_year\"].unique()"
   ]
  },
  {
   "cell_type": "code",
   "execution_count": 76,
   "metadata": {},
   "outputs": [],
   "source": [
    "import matplotlib.pyplot as plt\n",
    "import seaborn as sns"
   ]
  },
  {
   "cell_type": "code",
   "execution_count": 77,
   "metadata": {},
   "outputs": [
    {
     "data": {
      "image/png": "[encoded data removed]",
      "text/plain": [
       "<Figure size 640x480 with 1 Axes>"
      ]
     },
     "metadata": {},
     "output_type": "display_data"
    },
    {
     "data": {
      "image/png": "[encoded data removed]",
      "text/plain": [
       "<Figure size 640x480 with 1 Axes>"
      ]
     },
     "metadata": {},
     "output_type": "display_data"
    },
    {
     "data": {
      "image/png": "[encoded data removed]",
      "text/plain": [
       "<Figure size 640x480 with 1 Axes>"
      ]
     },
     "metadata": {},
     "output_type": "display_data"
    }
   ],
   "source": [
    "#Display Plots Histogram\n",
    "columns = ['no_of_rooms','floor_area_sqm','resale_price']\n",
    "for i in columns:\n",
    "  sns.distplot(df[i])\n",
    "  plt.show()\n"
   ]
  },
  {
   "cell_type": "code",
   "execution_count": 78,
   "metadata": {},
   "outputs": [],
   "source": [
    "from sklearn.model_selection import train_test_split\n",
    "from sklearn.tree import DecisionTreeRegressor\n",
    "from sklearn.preprocessing import StandardScaler, OneHotEncoder\n",
    "from sklearn.metrics import mean_squared_error, r2_score\n",
    "from sklearn.model_selection import GridSearchCV"
   ]
  },
  {
   "cell_type": "code",
   "execution_count": 79,
   "metadata": {},
   "outputs": [],
   "source": [
    "df.to_csv('Final_data.csv',index = False)"
   ]
  },
  {
   "cell_type": "code",
   "execution_count": 80,
   "metadata": {},
   "outputs": [
    {
     "data": {
      "text/plain": [
       "Index(['month', 'year', 'town', 'no_of_rooms', 'block', 'street_name',\n",
       "       'no_of_floors', 'floor_area_sqm', 'flat_type', 'lease_commence_year',\n",
       "       'resale_price'],\n",
       "      dtype='object')"
      ]
     },
     "execution_count": 80,
     "metadata": {},
     "output_type": "execute_result"
    }
   ],
   "source": [
    "df.columns"
   ]
  },
  {
   "cell_type": "markdown",
   "metadata": {},
   "source": [
    "# ENCODING"
   ]
  },
  {
   "cell_type": "code",
   "execution_count": 81,
   "metadata": {},
   "outputs": [
    {
     "data": {
      "text/html": [
       "<div>\n",
       "<style scoped>\n",
       "    .dataframe tbody tr th:only-of-type {\n",
       "        vertical-align: middle;\n",
       "    }\n",
       "\n",
       "    .dataframe tbody tr th {\n",
       "        vertical-align: top;\n",
       "    }\n",
       "\n",
       "    .dataframe thead th {\n",
       "        text-align: right;\n",
       "    }\n",
       "</style>\n",
       "<table border=\"1\" class=\"dataframe\">\n",
       "  <thead>\n",
       "    <tr style=\"text-align: right;\">\n",
       "      <th></th>\n",
       "      <th>month</th>\n",
       "      <th>year</th>\n",
       "      <th>town</th>\n",
       "      <th>no_of_rooms</th>\n",
       "      <th>block</th>\n",
       "      <th>street_name</th>\n",
       "      <th>no_of_floors</th>\n",
       "      <th>floor_area_sqm</th>\n",
       "      <th>flat_type</th>\n",
       "      <th>lease_commence_year</th>\n",
       "      <th>resale_price</th>\n",
       "    </tr>\n",
       "  </thead>\n",
       "  <tbody>\n",
       "    <tr>\n",
       "      <th>0</th>\n",
       "      <td>1</td>\n",
       "      <td>2000</td>\n",
       "      <td>ANG MO KIO</td>\n",
       "      <td>3</td>\n",
       "      <td>170</td>\n",
       "      <td>ANG MO KIO AVE 4</td>\n",
       "      <td>07 TO 09</td>\n",
       "      <td>69.0</td>\n",
       "      <td>IMPROVED</td>\n",
       "      <td>1986</td>\n",
       "      <td>147000.0</td>\n",
       "    </tr>\n",
       "    <tr>\n",
       "      <th>1</th>\n",
       "      <td>1</td>\n",
       "      <td>2000</td>\n",
       "      <td>ANG MO KIO</td>\n",
       "      <td>3</td>\n",
       "      <td>174</td>\n",
       "      <td>ANG MO KIO AVE 4</td>\n",
       "      <td>04 TO 06</td>\n",
       "      <td>61.0</td>\n",
       "      <td>IMPROVED</td>\n",
       "      <td>1986</td>\n",
       "      <td>144000.0</td>\n",
       "    </tr>\n",
       "  </tbody>\n",
       "</table>\n",
       "</div>"
      ],
      "text/plain": [
       "   month  year        town no_of_rooms block       street_name no_of_floors  \\\n",
       "0      1  2000  ANG MO KIO          3    170  ANG MO KIO AVE 4     07 TO 09   \n",
       "1      1  2000  ANG MO KIO          3    174  ANG MO KIO AVE 4     04 TO 06   \n",
       "\n",
       "   floor_area_sqm flat_type  lease_commence_year  resale_price  \n",
       "0            69.0  IMPROVED                 1986      147000.0  \n",
       "1            61.0  IMPROVED                 1986      144000.0  "
      ]
     },
     "execution_count": 81,
     "metadata": {},
     "output_type": "execute_result"
    }
   ],
   "source": [
    "df.head(2)"
   ]
  },
  {
   "cell_type": "code",
   "execution_count": 82,
   "metadata": {},
   "outputs": [],
   "source": [
    "# Encoding few cols\n",
    "from sklearn.preprocessing import LabelEncoder\n",
    "label_encoder = LabelEncoder()\n",
    "df['town'] = label_encoder.fit_transform(df['town'])\n",
    "df['block'] = label_encoder.fit_transform(df['block'])\n",
    "df['street_name'] = label_encoder.fit_transform(df['street_name'])\n",
    "df['no_of_floors'] = label_encoder.fit_transform(df['no_of_floors'])\n",
    "df['flat_type'] = label_encoder.fit_transform(df['flat_type'])"
   ]
  },
  {
   "cell_type": "code",
   "execution_count": 83,
   "metadata": {},
   "outputs": [
    {
     "data": {
      "text/html": [
       "<div>\n",
       "<style scoped>\n",
       "    .dataframe tbody tr th:only-of-type {\n",
       "        vertical-align: middle;\n",
       "    }\n",
       "\n",
       "    .dataframe tbody tr th {\n",
       "        vertical-align: top;\n",
       "    }\n",
       "\n",
       "    .dataframe thead th {\n",
       "        text-align: right;\n",
       "    }\n",
       "</style>\n",
       "<table border=\"1\" class=\"dataframe\">\n",
       "  <thead>\n",
       "    <tr style=\"text-align: right;\">\n",
       "      <th></th>\n",
       "      <th>month</th>\n",
       "      <th>year</th>\n",
       "      <th>town</th>\n",
       "      <th>no_of_rooms</th>\n",
       "      <th>block</th>\n",
       "      <th>street_name</th>\n",
       "      <th>no_of_floors</th>\n",
       "      <th>floor_area_sqm</th>\n",
       "      <th>flat_type</th>\n",
       "      <th>lease_commence_year</th>\n",
       "      <th>resale_price</th>\n",
       "    </tr>\n",
       "  </thead>\n",
       "  <tbody>\n",
       "    <tr>\n",
       "      <th>0</th>\n",
       "      <td>1</td>\n",
       "      <td>2000</td>\n",
       "      <td>0</td>\n",
       "      <td>3</td>\n",
       "      <td>244</td>\n",
       "      <td>17</td>\n",
       "      <td>4</td>\n",
       "      <td>69.0</td>\n",
       "      <td>5</td>\n",
       "      <td>1986</td>\n",
       "      <td>147000.0</td>\n",
       "    </tr>\n",
       "    <tr>\n",
       "      <th>1</th>\n",
       "      <td>1</td>\n",
       "      <td>2000</td>\n",
       "      <td>0</td>\n",
       "      <td>3</td>\n",
       "      <td>261</td>\n",
       "      <td>17</td>\n",
       "      <td>2</td>\n",
       "      <td>61.0</td>\n",
       "      <td>5</td>\n",
       "      <td>1986</td>\n",
       "      <td>144000.0</td>\n",
       "    </tr>\n",
       "  </tbody>\n",
       "</table>\n",
       "</div>"
      ],
      "text/plain": [
       "   month  year  town no_of_rooms  block  street_name  no_of_floors  \\\n",
       "0      1  2000     0          3     244           17             4   \n",
       "1      1  2000     0          3     261           17             2   \n",
       "\n",
       "   floor_area_sqm  flat_type  lease_commence_year  resale_price  \n",
       "0            69.0          5                 1986      147000.0  \n",
       "1            61.0          5                 1986      144000.0  "
      ]
     },
     "execution_count": 83,
     "metadata": {},
     "output_type": "execute_result"
    }
   ],
   "source": [
    "df.head(2)"
   ]
  },
  {
   "cell_type": "markdown",
   "metadata": {},
   "source": [
    "#80"
   ]
  },
  {
   "cell_type": "markdown",
   "metadata": {},
   "source": [
    "# Model creation"
   ]
  },
  {
   "cell_type": "code",
   "execution_count": null,
   "metadata": {},
   "outputs": [],
   "source": [
    "# Predict feauter & tgt variables SCIKIT-LEARN \n",
    "X = df.drop(columns=[\"resale_price\", \"street_name\", \"block\", 'month', \"flat_type\", \"no_of_floors\"])\n",
    "Y = df[[\"resale_price\"]]\n"
   ]
  },
  {
   "cell_type": "code",
   "execution_count": null,
   "metadata": {},
   "outputs": [
    {
     "data": {
      "text/plain": [
       "(734468, 5)"
      ]
     },
     "execution_count": 121,
     "metadata": {},
     "output_type": "execute_result"
    }
   ],
   "source": [
    "X_train, X_test, y_train, y_test = train_test_split(X, Y, test_size=0.2, random_state=42)\n",
    "\n",
    "X_train.shape"
   ]
  },
  {
   "cell_type": "markdown",
   "metadata": {},
   "source": [
    "# Random Forest Regression Model"
   ]
  },
  {
   "cell_type": "code",
   "execution_count": null,
   "metadata": {},
   "outputs": [],
   "source": [
    "from sklearn.ensemble import RandomForestRegressor\n",
    "from sklearn.metrics import mean_squared_error, r2_score"
   ]
  },
  {
   "cell_type": "code",
   "execution_count": null,
   "metadata": {},
   "outputs": [
    {
     "name": "stdout",
     "output_type": "stream",
     "text": [
      "Mean Square Error is: 817235473.3157552\n",
      "R-square value is: 0.9710503085129389\n"
     ]
    }
   ],
   "source": [
    "# Implement a Random Forest Regression Model\n",
    "model = RandomForestRegressor()\n",
    "model.fit(X_train, y_train)\n",
    "\n",
    "# Evaluate the model\n",
    "y_predicted_values = model.predict(X_test)\n",
    "mse = mean_squared_error(y_test, y_predicted_values)\n",
    "r2 = r2_score(y_test, y_predicted_values)\n",
    "\n",
    "print('Mean Square Error is:', mse)\n",
    "print('R-square value is:', r2)"
   ]
  },
  {
   "cell_type": "code",
   "execution_count": null,
   "metadata": {},
   "outputs": [],
   "source": [
    "# Mean Square Error is :  818464825.2513889\n",
    "# R-square value is :  0.9710067600370985"
   ]
  },
  {
   "cell_type": "code",
   "execution_count": null,
   "metadata": {},
   "outputs": [],
   "source": [
    "import pickle"
   ]
  },
  {
   "cell_type": "code",
   "execution_count": null,
   "metadata": {},
   "outputs": [],
   "source": [
    "# Serialize and save model through pickle \n",
    "with open(\"S_Model_R.pkl\", \"wb\") as file:\n",
    "    pickle.dump(model, file)"
   ]
  },
  {
   "cell_type": "code",
   "execution_count": null,
   "metadata": {},
   "outputs": [],
   "source": [
    "# Load the model\n",
    "with open(\"S_Model_R.pkl\", \"rb\") as file:\n",
    "    loaded_model = pickle.load(file)"
   ]
  },
  {
   "cell_type": "code",
   "execution_count": null,
   "metadata": {},
   "outputs": [
    {
     "name": "stdout",
     "output_type": "stream",
     "text": [
      "year                   0.519879\n",
      "floor_area_sqm         0.291301\n",
      "town                   0.082210\n",
      "lease_commence_year    0.056206\n",
      "no_of_rooms            0.050404\n",
      "dtype: float64\n"
     ]
    }
   ],
   "source": [
    "feature_importances = pd.Series(Model_R.feature_importances_, index=X_train.columns).sort_values(ascending=False)\n",
    "print(feature_importances)"
   ]
  },
  {
   "cell_type": "code",
   "execution_count": null,
   "metadata": {},
   "outputs": [],
   "source": [
    "Final = df[[\"year\", \"floor_area_sqm\", \"town\", \"lease_commence_year\", \"no_of_rooms\"]]\n",
    "Final.to_csv('Final_data.csv', index=False)\n"
   ]
  },
  {
   "cell_type": "markdown",
   "metadata": {},
   "source": [
    "#96"
   ]
  },
  {
   "cell_type": "code",
   "execution_count": null,
   "metadata": {},
   "outputs": [
    {
     "data": {
      "text/html": [
       "<div>\n",
       "<style scoped>\n",
       "    .dataframe tbody tr th:only-of-type {\n",
       "        vertical-align: middle;\n",
       "    }\n",
       "\n",
       "    .dataframe tbody tr th {\n",
       "        vertical-align: top;\n",
       "    }\n",
       "\n",
       "    .dataframe thead th {\n",
       "        text-align: right;\n",
       "    }\n",
       "</style>\n",
       "<table border=\"1\" class=\"dataframe\">\n",
       "  <thead>\n",
       "    <tr style=\"text-align: right;\">\n",
       "      <th></th>\n",
       "      <th>year</th>\n",
       "      <th>floor_area_sqm</th>\n",
       "      <th>town</th>\n",
       "      <th>lease_commence_year</th>\n",
       "      <th>no_of_rooms</th>\n",
       "    </tr>\n",
       "  </thead>\n",
       "  <tbody>\n",
       "    <tr>\n",
       "      <th>0</th>\n",
       "      <td>2000</td>\n",
       "      <td>69.0</td>\n",
       "      <td>0</td>\n",
       "      <td>1986</td>\n",
       "      <td>3</td>\n",
       "    </tr>\n",
       "    <tr>\n",
       "      <th>1</th>\n",
       "      <td>2000</td>\n",
       "      <td>61.0</td>\n",
       "      <td>0</td>\n",
       "      <td>1986</td>\n",
       "      <td>3</td>\n",
       "    </tr>\n",
       "    <tr>\n",
       "      <th>2</th>\n",
       "      <td>2000</td>\n",
       "      <td>73.0</td>\n",
       "      <td>0</td>\n",
       "      <td>1976</td>\n",
       "      <td>3</td>\n",
       "    </tr>\n",
       "    <tr>\n",
       "      <th>3</th>\n",
       "      <td>2000</td>\n",
       "      <td>73.0</td>\n",
       "      <td>0</td>\n",
       "      <td>1976</td>\n",
       "      <td>3</td>\n",
       "    </tr>\n",
       "    <tr>\n",
       "      <th>4</th>\n",
       "      <td>2000</td>\n",
       "      <td>67.0</td>\n",
       "      <td>0</td>\n",
       "      <td>1976</td>\n",
       "      <td>3</td>\n",
       "    </tr>\n",
       "    <tr>\n",
       "      <th>...</th>\n",
       "      <td>...</td>\n",
       "      <td>...</td>\n",
       "      <td>...</td>\n",
       "      <td>...</td>\n",
       "      <td>...</td>\n",
       "    </tr>\n",
       "    <tr>\n",
       "      <th>918081</th>\n",
       "      <td>2014</td>\n",
       "      <td>122.0</td>\n",
       "      <td>26</td>\n",
       "      <td>1988</td>\n",
       "      <td>5</td>\n",
       "    </tr>\n",
       "    <tr>\n",
       "      <th>918082</th>\n",
       "      <td>2014</td>\n",
       "      <td>146.0</td>\n",
       "      <td>26</td>\n",
       "      <td>1988</td>\n",
       "      <td>6</td>\n",
       "    </tr>\n",
       "    <tr>\n",
       "      <th>918083</th>\n",
       "      <td>2014</td>\n",
       "      <td>164.0</td>\n",
       "      <td>26</td>\n",
       "      <td>1992</td>\n",
       "      <td>6</td>\n",
       "    </tr>\n",
       "    <tr>\n",
       "      <th>918084</th>\n",
       "      <td>2014</td>\n",
       "      <td>152.0</td>\n",
       "      <td>26</td>\n",
       "      <td>1985</td>\n",
       "      <td>6</td>\n",
       "    </tr>\n",
       "    <tr>\n",
       "      <th>918085</th>\n",
       "      <td>2014</td>\n",
       "      <td>146.0</td>\n",
       "      <td>26</td>\n",
       "      <td>1985</td>\n",
       "      <td>6</td>\n",
       "    </tr>\n",
       "  </tbody>\n",
       "</table>\n",
       "<p>918086 rows × 5 columns</p>\n",
       "</div>"
      ],
      "text/plain": [
       "        year  floor_area_sqm  town  lease_commence_year  no_of_rooms\n",
       "0       2000            69.0     0                 1986            3\n",
       "1       2000            61.0     0                 1986            3\n",
       "2       2000            73.0     0                 1976            3\n",
       "3       2000            73.0     0                 1976            3\n",
       "4       2000            67.0     0                 1976            3\n",
       "...      ...             ...   ...                  ...          ...\n",
       "918081  2014           122.0    26                 1988            5\n",
       "918082  2014           146.0    26                 1988            6\n",
       "918083  2014           164.0    26                 1992            6\n",
       "918084  2014           152.0    26                 1985            6\n",
       "918085  2014           146.0    26                 1985            6\n",
       "\n",
       "[918086 rows x 5 columns]"
      ]
     },
     "execution_count": 128,
     "metadata": {},
     "output_type": "execute_result"
    }
   ],
   "source": [
    "Final_data = pd.read_csv(\"Final_data.csv\")\n",
    "Final_data"
   ]
  },
  {
   "cell_type": "code",
   "execution_count": null,
   "metadata": {},
   "outputs": [
    {
     "name": "stdout",
     "output_type": "stream",
     "text": [
      "Mean Square Error is: 818634016.4210887\n",
      "R-square value is: 0.9710007666210941\n",
      "year                   0.519995\n",
      "floor_area_sqm         0.290947\n",
      "town                   0.082446\n",
      "lease_commence_year    0.056002\n",
      "no_of_rooms            0.050610\n",
      "dtype: float64\n"
     ]
    }
   ],
   "source": [
    "# Predict feauter & tgt variables SCIKIT-LEARN \n",
    "X = df.drop(columns=[\"resale_price\", \"street_name\", \"block\", 'month', \"flat_type\", \"no_of_floors\"])\n",
    "Y = df[[\"resale_price\"]]\n",
    "\n",
    "X_train, X_test, y_train, y_test = train_test_split(X, Y, test_size=0.2, random_state=42)\n",
    "\n",
    "X_train.shape\n",
    "\n",
    "# Implement a Random Forest Regression Model\n",
    "model = RandomForestRegressor()\n",
    "model.fit(X_train, y_train)\n",
    "\n",
    "# Evaluate the model\n",
    "y_predicted_values = model.predict(X_test)\n",
    "mse = mean_squared_error(y_test, y_predicted_values)\n",
    "r2 = r2_score(y_test, y_predicted_values)\n",
    "\n",
    "print('Mean Square Error is:', mse)\n",
    "print('R-square value is:', r2)\n",
    "\n",
    "# Serialize and save model through pickle \n",
    "with open(\"S_Model_R.pkl\", \"wb\") as file:\n",
    "    pickle.dump(Model_R, file)\n",
    "\n",
    "\n",
    "# To make predictions using the saved model\n",
    "# Load the model\n",
    "with open(\"S_Model_R.pkl\", \"rb\") as file:\n",
    "    loaded_model = pickle.load(file)\n",
    "\n",
    "feature_importances = pd.Series(Model_R.feature_importances_, index=X_train.columns).sort_values(ascending=False)\n",
    "print(feature_importances)\n",
    "\n",
    "Final = df[[\"year\", \"floor_area_sqm\", \"town\", \"lease_commence_year\", \"no_of_rooms\"]]\n",
    "Final.to_csv('Final_data.csv', index=False)\n"
   ]
  },
  {
   "cell_type": "markdown",
   "metadata": {},
   "source": [
    "# LINEAR REGRESSION MODEL"
   ]
  },
  {
   "cell_type": "code",
   "execution_count": null,
   "metadata": {},
   "outputs": [
    {
     "name": "stdout",
     "output_type": "stream",
     "text": [
      "Random Forest Model:\n",
      "Mean Square Error is :  819475080.9678764\n",
      "R-square value is :  0.9709709728101972\n",
      "\n",
      "Linear Regression Model:\n",
      "Mean Square Error is :  7293189959.38565\n",
      "R-square value is :  0.7416465557667129\n",
      "\n",
      "Best Model: RandomForestRegressor\n"
     ]
    }
   ],
   "source": [
    "# Train Random Forest Regression Model\n",
    "from sklearn.ensemble import RandomForestRegressor\n",
    "random_forest_model = RandomForestRegressor()\n",
    "random_forest_model.fit(X_train, y_train)\n",
    "\n",
    "# Train Linear Regression Model\n",
    "from sklearn.linear_model import LinearRegression\n",
    "linear_regression_model = LinearRegression()\n",
    "linear_regression_model.fit(X_train, y_train)\n",
    "\n",
    "# Make predictions using both models\n",
    "y_predicted_rf = random_forest_model.predict(X_test)\n",
    "y_predicted_lr = linear_regression_model.predict(X_test)\n",
    "\n",
    "# Evaluate and compare models\n",
    "mse_rf = mean_squared_error(y_test, y_predicted_rf)\n",
    "r2_rf = r2_score(y_test, y_predicted_rf)\n",
    "\n",
    "mse_lr = mean_squared_error(y_test, y_predicted_lr)\n",
    "r2_lr = r2_score(y_test, y_predicted_lr)\n",
    "\n",
    "print('Random Forest Model:')\n",
    "print('Mean Square Error is : ', mse_rf)\n",
    "print('R-square value is : ', r2_rf)\n",
    "\n",
    "print('\\nLinear Regression Model:')\n",
    "print('Mean Square Error is : ', mse_lr)\n",
    "print('R-square value is : ', r2_lr)\n",
    "\n",
    "# Choose the best model based on evaluation metrics\n",
    "best_model = random_forest_model if r2_rf > r2_lr else linear_regression_model\n",
    "print(f'\\nBest Model: {type(best_model).__name__}')\n",
    "\n",
    "# Serialize and save the best model through pickle \n",
    "with open(\"Best_Model.pkl\", \"wb\") as file:\n",
    "    pickle.dump(best_model, file)\n"
   ]
  },
  {
   "cell_type": "code",
   "execution_count": null,
   "metadata": {},
   "outputs": [
    {
     "name": "stdout",
     "output_type": "stream",
     "text": [
      "Index(['year', 'floor_area_sqm', 'town', 'lease_commence_year', 'no_of_rooms'], dtype='object')\n"
     ]
    }
   ],
   "source": [
    "print(Final_data.columns)"
   ]
  },
  {
   "cell_type": "markdown",
   "metadata": {},
   "source": [
    "#91"
   ]
  },
  {
   "cell_type": "markdown",
   "metadata": {},
   "source": [
    "#st page creation"
   ]
  },
  {
   "cell_type": "markdown",
   "metadata": {},
   "source": [
    "# "
   ]
  },
  {
   "cell_type": "code",
   "execution_count": null,
   "metadata": {},
   "outputs": [],
   "source": [
    "with open(\"S_Model_R.pkl\",\"rb\") as file:\n",
    "    Prediction = pickle.load(file) \n",
    "    \n",
    "P= \"C:/Users/prabh/Downloads/Datascience/Project/Singapore_resale/Final_data.csv\"\n",
    "data = pd.read_csv(P, nrows=500)\n",
    "X = data[[\"year\",\"town\",\"floor_area_sqm\",\"lease_commence_year\"]]\n",
    "Y = data[[\"resale_price\"]]\n",
    "\n",
    "X_train, X_test, y_train, y_test = train_test_split(X, Y, test_size=0.3, random_state=42)\n",
    "Ans = Prediction.predict(X_test)\n",
    "Final = r2_score(y_test,Ans)\n",
    "\n",
    "feature_importances = pd.Series(Prediction.feature_importances_,index = X_train.columns).sort_values(ascending=False)\n"
   ]
  },
  {
   "cell_type": "code",
   "execution_count": null,
   "metadata": {},
   "outputs": [],
   "source": []
  }
 ],
 "metadata": {
  "kernelspec": {
   "display_name": "Python 3",
   "language": "python",
   "name": "python3"
  },
  "language_info": {
   "codemirror_mode": {
    "name": "ipython",
    "version": 3
   },
   "file_extension": ".py",
   "mimetype": "text/x-python",
   "name": "python",
   "nbconvert_exporter": "python",
   "pygments_lexer": "ipython3",
   "version": "3.10.11"
  }
 },
 "nbformat": 4,
 "nbformat_minor": 2
}
